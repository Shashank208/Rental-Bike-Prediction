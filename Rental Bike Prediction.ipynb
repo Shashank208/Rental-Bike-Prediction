{
 "cells": [
  {
   "cell_type": "markdown",
   "id": "9b941d31",
   "metadata": {},
   "source": [
    "<html>\n",
    "<p style=\"color:purple;font-size:250%;\">\n",
    "    <b>Rental Bike Prediction</b></p>"
   ]
  },
  {
   "cell_type": "markdown",
   "id": "b9b65475",
   "metadata": {},
   "source": [
    "\n",
    "Data Set Information:\n",
    "\n",
    "Currently Rental bikes are introduced in many urban cities for the enhancement of mobility comfort.\n",
    "It is important to make the rental bike available and accessible to the public at the right time as \n",
    "it lessens the waiting time. Eventually, providing the city with a stable supply of rental bikes becomes \n",
    "a major concern. The crucial part is the prediction of bike count required at each hour for the stable supply \n",
    "of rental bikes.\n",
    "The dataset contains weather information (Temperature, Humidity, Windspeed, Visibility, Dewpoint, Solar radiation, Snowfall, Rainfall), \n",
    "the number of bikes rented per hour and date information.\n",
    "\n",
    "\n",
    "Attribute Information:\n",
    "\n",
    "Date : year-month-day\n",
    "Rented Bike count - Count of bikes rented at each hour\n",
    "Hour - Hour of he day\n",
    "Temperature-Temperature in Celsius\n",
    "Humidity - %\n",
    "Windspeed - m/s\n",
    "Visibility - 10m\n",
    "Dew point temperature - Celsius\n",
    "Solar radiation - MJ/m2\n",
    "Rainfall - mm\n",
    "Snowfall - cm\n",
    "Seasons - Winter, Spring, Summer, Autumn\n",
    "Holiday - Holiday/No holiday\n",
    "        Functional Day - NoFunc(Non Functional Hours), Fun(Functional hours)\n",
    " "
   ]
  },
  {
   "cell_type": "markdown",
   "id": "8a818570",
   "metadata": {},
   "source": [
    "<html>\n",
    "<p style=\"color:purple;font-size:150%;\">\n",
    "    <b>Importing libraries</b></p>"
   ]
  },
  {
   "cell_type": "code",
   "execution_count": 164,
   "id": "60587d30",
   "metadata": {},
   "outputs": [],
   "source": [
    "import numpy as np\n",
    "import pandas as pd\n",
    "import matplotlib.pyplot as plt\n",
    "import seaborn as sns"
   ]
  },
  {
   "cell_type": "markdown",
   "id": "4516eabd",
   "metadata": {},
   "source": [
    "<html>\n",
    "<p style=\"color:purple;font-size:150%;\">\n",
    "    <b>Importing Dataset</b></p>"
   ]
  },
  {
   "cell_type": "code",
   "execution_count": 165,
   "id": "5be7685e",
   "metadata": {},
   "outputs": [],
   "source": [
    "data=pd.read_csv('SeoulBikeData.csv',encoding= 'unicode_escape')"
   ]
  },
  {
   "cell_type": "markdown",
   "id": "89e247c1",
   "metadata": {},
   "source": [
    "<html>\n",
    "<p style=\"color:purple;font-size:150%;\">\n",
    "    <b>Dataset View</b></p>"
   ]
  },
  {
   "cell_type": "code",
   "execution_count": 166,
   "id": "ca498b53",
   "metadata": {
    "scrolled": true
   },
   "outputs": [
    {
     "data": {
      "text/html": [
       "<div>\n",
       "<style scoped>\n",
       "    .dataframe tbody tr th:only-of-type {\n",
       "        vertical-align: middle;\n",
       "    }\n",
       "\n",
       "    .dataframe tbody tr th {\n",
       "        vertical-align: top;\n",
       "    }\n",
       "\n",
       "    .dataframe thead th {\n",
       "        text-align: right;\n",
       "    }\n",
       "</style>\n",
       "<table border=\"1\" class=\"dataframe\">\n",
       "  <thead>\n",
       "    <tr style=\"text-align: right;\">\n",
       "      <th></th>\n",
       "      <th>Date</th>\n",
       "      <th>Rented Bike Count</th>\n",
       "      <th>Hour</th>\n",
       "      <th>Temperature(°C)</th>\n",
       "      <th>Humidity(%)</th>\n",
       "      <th>Wind speed (m/s)</th>\n",
       "      <th>Visibility (10m)</th>\n",
       "      <th>Dew point temperature(°C)</th>\n",
       "      <th>Solar Radiation (MJ/m2)</th>\n",
       "      <th>Rainfall(mm)</th>\n",
       "      <th>Snowfall (cm)</th>\n",
       "      <th>Seasons</th>\n",
       "      <th>Holiday</th>\n",
       "      <th>Functioning Day</th>\n",
       "    </tr>\n",
       "  </thead>\n",
       "  <tbody>\n",
       "    <tr>\n",
       "      <th>0</th>\n",
       "      <td>01-12-2017</td>\n",
       "      <td>254</td>\n",
       "      <td>0</td>\n",
       "      <td>-5.2</td>\n",
       "      <td>37</td>\n",
       "      <td>2.2</td>\n",
       "      <td>2000</td>\n",
       "      <td>-17.6</td>\n",
       "      <td>0.00</td>\n",
       "      <td>0.0</td>\n",
       "      <td>0.0</td>\n",
       "      <td>Winter</td>\n",
       "      <td>No Holiday</td>\n",
       "      <td>Yes</td>\n",
       "    </tr>\n",
       "    <tr>\n",
       "      <th>1</th>\n",
       "      <td>01-12-2017</td>\n",
       "      <td>204</td>\n",
       "      <td>1</td>\n",
       "      <td>-5.5</td>\n",
       "      <td>38</td>\n",
       "      <td>0.8</td>\n",
       "      <td>2000</td>\n",
       "      <td>-17.6</td>\n",
       "      <td>0.00</td>\n",
       "      <td>0.0</td>\n",
       "      <td>0.0</td>\n",
       "      <td>Winter</td>\n",
       "      <td>No Holiday</td>\n",
       "      <td>Yes</td>\n",
       "    </tr>\n",
       "    <tr>\n",
       "      <th>2</th>\n",
       "      <td>01-12-2017</td>\n",
       "      <td>173</td>\n",
       "      <td>2</td>\n",
       "      <td>-6.0</td>\n",
       "      <td>39</td>\n",
       "      <td>1.0</td>\n",
       "      <td>2000</td>\n",
       "      <td>-17.7</td>\n",
       "      <td>0.00</td>\n",
       "      <td>0.0</td>\n",
       "      <td>0.0</td>\n",
       "      <td>Winter</td>\n",
       "      <td>No Holiday</td>\n",
       "      <td>Yes</td>\n",
       "    </tr>\n",
       "    <tr>\n",
       "      <th>3</th>\n",
       "      <td>01-12-2017</td>\n",
       "      <td>107</td>\n",
       "      <td>3</td>\n",
       "      <td>-6.2</td>\n",
       "      <td>40</td>\n",
       "      <td>0.9</td>\n",
       "      <td>2000</td>\n",
       "      <td>-17.6</td>\n",
       "      <td>0.00</td>\n",
       "      <td>0.0</td>\n",
       "      <td>0.0</td>\n",
       "      <td>Winter</td>\n",
       "      <td>No Holiday</td>\n",
       "      <td>Yes</td>\n",
       "    </tr>\n",
       "    <tr>\n",
       "      <th>4</th>\n",
       "      <td>01-12-2017</td>\n",
       "      <td>78</td>\n",
       "      <td>4</td>\n",
       "      <td>-6.0</td>\n",
       "      <td>36</td>\n",
       "      <td>2.3</td>\n",
       "      <td>2000</td>\n",
       "      <td>-18.6</td>\n",
       "      <td>0.00</td>\n",
       "      <td>0.0</td>\n",
       "      <td>0.0</td>\n",
       "      <td>Winter</td>\n",
       "      <td>No Holiday</td>\n",
       "      <td>Yes</td>\n",
       "    </tr>\n",
       "    <tr>\n",
       "      <th>5</th>\n",
       "      <td>01-12-2017</td>\n",
       "      <td>100</td>\n",
       "      <td>5</td>\n",
       "      <td>-6.4</td>\n",
       "      <td>37</td>\n",
       "      <td>1.5</td>\n",
       "      <td>2000</td>\n",
       "      <td>-18.7</td>\n",
       "      <td>0.00</td>\n",
       "      <td>0.0</td>\n",
       "      <td>0.0</td>\n",
       "      <td>Winter</td>\n",
       "      <td>No Holiday</td>\n",
       "      <td>Yes</td>\n",
       "    </tr>\n",
       "    <tr>\n",
       "      <th>6</th>\n",
       "      <td>01-12-2017</td>\n",
       "      <td>181</td>\n",
       "      <td>6</td>\n",
       "      <td>-6.6</td>\n",
       "      <td>35</td>\n",
       "      <td>1.3</td>\n",
       "      <td>2000</td>\n",
       "      <td>-19.5</td>\n",
       "      <td>0.00</td>\n",
       "      <td>0.0</td>\n",
       "      <td>0.0</td>\n",
       "      <td>Winter</td>\n",
       "      <td>No Holiday</td>\n",
       "      <td>Yes</td>\n",
       "    </tr>\n",
       "    <tr>\n",
       "      <th>7</th>\n",
       "      <td>01-12-2017</td>\n",
       "      <td>460</td>\n",
       "      <td>7</td>\n",
       "      <td>-7.4</td>\n",
       "      <td>38</td>\n",
       "      <td>0.9</td>\n",
       "      <td>2000</td>\n",
       "      <td>-19.3</td>\n",
       "      <td>0.00</td>\n",
       "      <td>0.0</td>\n",
       "      <td>0.0</td>\n",
       "      <td>Winter</td>\n",
       "      <td>No Holiday</td>\n",
       "      <td>Yes</td>\n",
       "    </tr>\n",
       "    <tr>\n",
       "      <th>8</th>\n",
       "      <td>01-12-2017</td>\n",
       "      <td>930</td>\n",
       "      <td>8</td>\n",
       "      <td>-7.6</td>\n",
       "      <td>37</td>\n",
       "      <td>1.1</td>\n",
       "      <td>2000</td>\n",
       "      <td>-19.8</td>\n",
       "      <td>0.01</td>\n",
       "      <td>0.0</td>\n",
       "      <td>0.0</td>\n",
       "      <td>Winter</td>\n",
       "      <td>No Holiday</td>\n",
       "      <td>Yes</td>\n",
       "    </tr>\n",
       "    <tr>\n",
       "      <th>9</th>\n",
       "      <td>01-12-2017</td>\n",
       "      <td>490</td>\n",
       "      <td>9</td>\n",
       "      <td>-6.5</td>\n",
       "      <td>27</td>\n",
       "      <td>0.5</td>\n",
       "      <td>1928</td>\n",
       "      <td>-22.4</td>\n",
       "      <td>0.23</td>\n",
       "      <td>0.0</td>\n",
       "      <td>0.0</td>\n",
       "      <td>Winter</td>\n",
       "      <td>No Holiday</td>\n",
       "      <td>Yes</td>\n",
       "    </tr>\n",
       "  </tbody>\n",
       "</table>\n",
       "</div>"
      ],
      "text/plain": [
       "         Date  Rented Bike Count  Hour  Temperature(°C)  Humidity(%)  \\\n",
       "0  01-12-2017                254     0             -5.2           37   \n",
       "1  01-12-2017                204     1             -5.5           38   \n",
       "2  01-12-2017                173     2             -6.0           39   \n",
       "3  01-12-2017                107     3             -6.2           40   \n",
       "4  01-12-2017                 78     4             -6.0           36   \n",
       "5  01-12-2017                100     5             -6.4           37   \n",
       "6  01-12-2017                181     6             -6.6           35   \n",
       "7  01-12-2017                460     7             -7.4           38   \n",
       "8  01-12-2017                930     8             -7.6           37   \n",
       "9  01-12-2017                490     9             -6.5           27   \n",
       "\n",
       "   Wind speed (m/s)  Visibility (10m)  Dew point temperature(°C)  \\\n",
       "0               2.2              2000                      -17.6   \n",
       "1               0.8              2000                      -17.6   \n",
       "2               1.0              2000                      -17.7   \n",
       "3               0.9              2000                      -17.6   \n",
       "4               2.3              2000                      -18.6   \n",
       "5               1.5              2000                      -18.7   \n",
       "6               1.3              2000                      -19.5   \n",
       "7               0.9              2000                      -19.3   \n",
       "8               1.1              2000                      -19.8   \n",
       "9               0.5              1928                      -22.4   \n",
       "\n",
       "   Solar Radiation (MJ/m2)  Rainfall(mm)  Snowfall (cm) Seasons     Holiday  \\\n",
       "0                     0.00           0.0            0.0  Winter  No Holiday   \n",
       "1                     0.00           0.0            0.0  Winter  No Holiday   \n",
       "2                     0.00           0.0            0.0  Winter  No Holiday   \n",
       "3                     0.00           0.0            0.0  Winter  No Holiday   \n",
       "4                     0.00           0.0            0.0  Winter  No Holiday   \n",
       "5                     0.00           0.0            0.0  Winter  No Holiday   \n",
       "6                     0.00           0.0            0.0  Winter  No Holiday   \n",
       "7                     0.00           0.0            0.0  Winter  No Holiday   \n",
       "8                     0.01           0.0            0.0  Winter  No Holiday   \n",
       "9                     0.23           0.0            0.0  Winter  No Holiday   \n",
       "\n",
       "  Functioning Day  \n",
       "0             Yes  \n",
       "1             Yes  \n",
       "2             Yes  \n",
       "3             Yes  \n",
       "4             Yes  \n",
       "5             Yes  \n",
       "6             Yes  \n",
       "7             Yes  \n",
       "8             Yes  \n",
       "9             Yes  "
      ]
     },
     "execution_count": 166,
     "metadata": {},
     "output_type": "execute_result"
    }
   ],
   "source": [
    "data.head(10)"
   ]
  },
  {
   "cell_type": "markdown",
   "id": "b3eb0813",
   "metadata": {},
   "source": [
    "<html>\n",
    "<p style=\"color:purple;font-size:150%;\">\n",
    "    <b>Dataset Information</b></p>"
   ]
  },
  {
   "cell_type": "code",
   "execution_count": 167,
   "id": "40a26ec9",
   "metadata": {
    "scrolled": true
   },
   "outputs": [
    {
     "name": "stdout",
     "output_type": "stream",
     "text": [
      "<class 'pandas.core.frame.DataFrame'>\n",
      "RangeIndex: 8760 entries, 0 to 8759\n",
      "Data columns (total 14 columns):\n",
      " #   Column                     Non-Null Count  Dtype  \n",
      "---  ------                     --------------  -----  \n",
      " 0   Date                       8760 non-null   object \n",
      " 1   Rented Bike Count          8760 non-null   int64  \n",
      " 2   Hour                       8760 non-null   int64  \n",
      " 3   Temperature(°C)            8760 non-null   float64\n",
      " 4   Humidity(%)                8760 non-null   int64  \n",
      " 5   Wind speed (m/s)           8760 non-null   float64\n",
      " 6   Visibility (10m)           8760 non-null   int64  \n",
      " 7   Dew point temperature(°C)  8760 non-null   float64\n",
      " 8   Solar Radiation (MJ/m2)    8760 non-null   float64\n",
      " 9   Rainfall(mm)               8760 non-null   float64\n",
      " 10  Snowfall (cm)              8760 non-null   float64\n",
      " 11  Seasons                    8760 non-null   object \n",
      " 12  Holiday                    8760 non-null   object \n",
      " 13  Functioning Day            8760 non-null   object \n",
      "dtypes: float64(6), int64(4), object(4)\n",
      "memory usage: 958.2+ KB\n"
     ]
    }
   ],
   "source": [
    "data.info()"
   ]
  },
  {
   "cell_type": "markdown",
   "id": "ee115243",
   "metadata": {},
   "source": [
    "<html>\n",
    "<p style=\"color:purple;font-size:150%;\">\n",
    "    <b>Summary Statistics</b></p>"
   ]
  },
  {
   "cell_type": "code",
   "execution_count": 168,
   "id": "c2d3ceb3",
   "metadata": {},
   "outputs": [
    {
     "data": {
      "text/html": [
       "<div>\n",
       "<style scoped>\n",
       "    .dataframe tbody tr th:only-of-type {\n",
       "        vertical-align: middle;\n",
       "    }\n",
       "\n",
       "    .dataframe tbody tr th {\n",
       "        vertical-align: top;\n",
       "    }\n",
       "\n",
       "    .dataframe thead th {\n",
       "        text-align: right;\n",
       "    }\n",
       "</style>\n",
       "<table border=\"1\" class=\"dataframe\">\n",
       "  <thead>\n",
       "    <tr style=\"text-align: right;\">\n",
       "      <th></th>\n",
       "      <th>Rented Bike Count</th>\n",
       "      <th>Hour</th>\n",
       "      <th>Temperature(°C)</th>\n",
       "      <th>Humidity(%)</th>\n",
       "      <th>Wind speed (m/s)</th>\n",
       "      <th>Visibility (10m)</th>\n",
       "      <th>Dew point temperature(°C)</th>\n",
       "      <th>Solar Radiation (MJ/m2)</th>\n",
       "      <th>Rainfall(mm)</th>\n",
       "      <th>Snowfall (cm)</th>\n",
       "    </tr>\n",
       "  </thead>\n",
       "  <tbody>\n",
       "    <tr>\n",
       "      <th>count</th>\n",
       "      <td>8760.000000</td>\n",
       "      <td>8760.000000</td>\n",
       "      <td>8760.000000</td>\n",
       "      <td>8760.000000</td>\n",
       "      <td>8760.000000</td>\n",
       "      <td>8760.000000</td>\n",
       "      <td>8760.000000</td>\n",
       "      <td>8760.000000</td>\n",
       "      <td>8760.000000</td>\n",
       "      <td>8760.000000</td>\n",
       "    </tr>\n",
       "    <tr>\n",
       "      <th>mean</th>\n",
       "      <td>704.602055</td>\n",
       "      <td>11.500000</td>\n",
       "      <td>12.882922</td>\n",
       "      <td>58.226256</td>\n",
       "      <td>1.724909</td>\n",
       "      <td>1436.825799</td>\n",
       "      <td>4.073813</td>\n",
       "      <td>0.569111</td>\n",
       "      <td>0.148687</td>\n",
       "      <td>0.075068</td>\n",
       "    </tr>\n",
       "    <tr>\n",
       "      <th>std</th>\n",
       "      <td>644.997468</td>\n",
       "      <td>6.922582</td>\n",
       "      <td>11.944825</td>\n",
       "      <td>20.362413</td>\n",
       "      <td>1.036300</td>\n",
       "      <td>608.298712</td>\n",
       "      <td>13.060369</td>\n",
       "      <td>0.868746</td>\n",
       "      <td>1.128193</td>\n",
       "      <td>0.436746</td>\n",
       "    </tr>\n",
       "    <tr>\n",
       "      <th>min</th>\n",
       "      <td>0.000000</td>\n",
       "      <td>0.000000</td>\n",
       "      <td>-17.800000</td>\n",
       "      <td>0.000000</td>\n",
       "      <td>0.000000</td>\n",
       "      <td>27.000000</td>\n",
       "      <td>-30.600000</td>\n",
       "      <td>0.000000</td>\n",
       "      <td>0.000000</td>\n",
       "      <td>0.000000</td>\n",
       "    </tr>\n",
       "    <tr>\n",
       "      <th>25%</th>\n",
       "      <td>191.000000</td>\n",
       "      <td>5.750000</td>\n",
       "      <td>3.500000</td>\n",
       "      <td>42.000000</td>\n",
       "      <td>0.900000</td>\n",
       "      <td>940.000000</td>\n",
       "      <td>-4.700000</td>\n",
       "      <td>0.000000</td>\n",
       "      <td>0.000000</td>\n",
       "      <td>0.000000</td>\n",
       "    </tr>\n",
       "    <tr>\n",
       "      <th>50%</th>\n",
       "      <td>504.500000</td>\n",
       "      <td>11.500000</td>\n",
       "      <td>13.700000</td>\n",
       "      <td>57.000000</td>\n",
       "      <td>1.500000</td>\n",
       "      <td>1698.000000</td>\n",
       "      <td>5.100000</td>\n",
       "      <td>0.010000</td>\n",
       "      <td>0.000000</td>\n",
       "      <td>0.000000</td>\n",
       "    </tr>\n",
       "    <tr>\n",
       "      <th>75%</th>\n",
       "      <td>1065.250000</td>\n",
       "      <td>17.250000</td>\n",
       "      <td>22.500000</td>\n",
       "      <td>74.000000</td>\n",
       "      <td>2.300000</td>\n",
       "      <td>2000.000000</td>\n",
       "      <td>14.800000</td>\n",
       "      <td>0.930000</td>\n",
       "      <td>0.000000</td>\n",
       "      <td>0.000000</td>\n",
       "    </tr>\n",
       "    <tr>\n",
       "      <th>max</th>\n",
       "      <td>3556.000000</td>\n",
       "      <td>23.000000</td>\n",
       "      <td>39.400000</td>\n",
       "      <td>98.000000</td>\n",
       "      <td>7.400000</td>\n",
       "      <td>2000.000000</td>\n",
       "      <td>27.200000</td>\n",
       "      <td>3.520000</td>\n",
       "      <td>35.000000</td>\n",
       "      <td>8.800000</td>\n",
       "    </tr>\n",
       "  </tbody>\n",
       "</table>\n",
       "</div>"
      ],
      "text/plain": [
       "       Rented Bike Count         Hour  Temperature(°C)  Humidity(%)  \\\n",
       "count        8760.000000  8760.000000      8760.000000  8760.000000   \n",
       "mean          704.602055    11.500000        12.882922    58.226256   \n",
       "std           644.997468     6.922582        11.944825    20.362413   \n",
       "min             0.000000     0.000000       -17.800000     0.000000   \n",
       "25%           191.000000     5.750000         3.500000    42.000000   \n",
       "50%           504.500000    11.500000        13.700000    57.000000   \n",
       "75%          1065.250000    17.250000        22.500000    74.000000   \n",
       "max          3556.000000    23.000000        39.400000    98.000000   \n",
       "\n",
       "       Wind speed (m/s)  Visibility (10m)  Dew point temperature(°C)  \\\n",
       "count       8760.000000       8760.000000                8760.000000   \n",
       "mean           1.724909       1436.825799                   4.073813   \n",
       "std            1.036300        608.298712                  13.060369   \n",
       "min            0.000000         27.000000                 -30.600000   \n",
       "25%            0.900000        940.000000                  -4.700000   \n",
       "50%            1.500000       1698.000000                   5.100000   \n",
       "75%            2.300000       2000.000000                  14.800000   \n",
       "max            7.400000       2000.000000                  27.200000   \n",
       "\n",
       "       Solar Radiation (MJ/m2)  Rainfall(mm)  Snowfall (cm)  \n",
       "count              8760.000000   8760.000000    8760.000000  \n",
       "mean                  0.569111      0.148687       0.075068  \n",
       "std                   0.868746      1.128193       0.436746  \n",
       "min                   0.000000      0.000000       0.000000  \n",
       "25%                   0.000000      0.000000       0.000000  \n",
       "50%                   0.010000      0.000000       0.000000  \n",
       "75%                   0.930000      0.000000       0.000000  \n",
       "max                   3.520000     35.000000       8.800000  "
      ]
     },
     "execution_count": 168,
     "metadata": {},
     "output_type": "execute_result"
    }
   ],
   "source": [
    "data.describe()"
   ]
  },
  {
   "cell_type": "markdown",
   "id": "e2e0b668",
   "metadata": {},
   "source": [
    "<html>\n",
    "<p style=\"color:purple;font-size:150%;\">\n",
    "    <b>Checking For Missing Values</b></p>"
   ]
  },
  {
   "cell_type": "code",
   "execution_count": 169,
   "id": "c7ee2b0b",
   "metadata": {},
   "outputs": [
    {
     "data": {
      "text/plain": [
       "Date                         0\n",
       "Rented Bike Count            0\n",
       "Hour                         0\n",
       "Temperature(°C)              0\n",
       "Humidity(%)                  0\n",
       "Wind speed (m/s)             0\n",
       "Visibility (10m)             0\n",
       "Dew point temperature(°C)    0\n",
       "Solar Radiation (MJ/m2)      0\n",
       "Rainfall(mm)                 0\n",
       "Snowfall (cm)                0\n",
       "Seasons                      0\n",
       "Holiday                      0\n",
       "Functioning Day              0\n",
       "dtype: int64"
      ]
     },
     "execution_count": 169,
     "metadata": {},
     "output_type": "execute_result"
    }
   ],
   "source": [
    "data.isnull().sum()"
   ]
  },
  {
   "cell_type": "markdown",
   "id": "64786a66",
   "metadata": {},
   "source": [
    "<html>\n",
    "<p style=\"color:purple;font-size:150%;\">\n",
    "    <b>Missing Value Plot</b></p>"
   ]
  },
  {
   "cell_type": "code",
   "execution_count": 170,
   "id": "197fe59f",
   "metadata": {},
   "outputs": [],
   "source": [
    "import missingno as msno"
   ]
  },
  {
   "cell_type": "code",
   "execution_count": 171,
   "id": "4bea843d",
   "metadata": {},
   "outputs": [
    {
     "data": {
      "text/plain": [
       "<AxesSubplot:>"
      ]
     },
     "execution_count": 171,
     "metadata": {},
     "output_type": "execute_result"
    },
    {
     "data": {
      "image/png": "[encoded data removed]",
      "text/plain": [
       "<Figure size 2160x1080 with 2 Axes>"
      ]
     },
     "metadata": {
      "needs_background": "light"
     },
     "output_type": "display_data"
    }
   ],
   "source": [
    "msno.matrix(data,labels=[data.columns],figsize=(30,15),fontsize=12)"
   ]
  },
  {
   "cell_type": "markdown",
   "id": "3b61ac39",
   "metadata": {},
   "source": [
    "<html>\n",
    "<p style=\"color:purple;font-size:150%;\">\n",
    "    <b>Checking for Duplicates</b></p>"
   ]
  },
  {
   "cell_type": "code",
   "execution_count": 172,
   "id": "bb3de9f8",
   "metadata": {},
   "outputs": [
    {
     "data": {
      "text/plain": [
       "0       False\n",
       "1       False\n",
       "2       False\n",
       "3       False\n",
       "4       False\n",
       "        ...  \n",
       "8755    False\n",
       "8756    False\n",
       "8757    False\n",
       "8758    False\n",
       "8759    False\n",
       "Length: 8760, dtype: bool"
      ]
     },
     "execution_count": 172,
     "metadata": {},
     "output_type": "execute_result"
    }
   ],
   "source": [
    "data.duplicated()"
   ]
  },
  {
   "cell_type": "markdown",
   "id": "cb41356d",
   "metadata": {},
   "source": [
    "<html>\n",
    "<p style=\"color:purple;font-size:150%;\">\n",
    "    <b>Categorical Variable to Numerical(One Hot Encoding)</b></p>"
   ]
  },
  {
   "cell_type": "code",
   "execution_count": 173,
   "id": "53b86ce8",
   "metadata": {},
   "outputs": [
    {
     "name": "stdout",
     "output_type": "stream",
     "text": [
      "<class 'pandas.core.frame.DataFrame'>\n",
      "RangeIndex: 8760 entries, 0 to 8759\n",
      "Data columns (total 36 columns):\n",
      " #   Column                     Non-Null Count  Dtype  \n",
      "---  ------                     --------------  -----  \n",
      " 0   Date                       8760 non-null   object \n",
      " 1   Rented Bike Count          8760 non-null   int64  \n",
      " 2   Temperature(°C)            8760 non-null   float64\n",
      " 3   Humidity(%)                8760 non-null   int64  \n",
      " 4   Wind speed (m/s)           8760 non-null   float64\n",
      " 5   Visibility (10m)           8760 non-null   int64  \n",
      " 6   Dew point temperature(°C)  8760 non-null   float64\n",
      " 7   Solar Radiation (MJ/m2)    8760 non-null   float64\n",
      " 8   Rainfall(mm)               8760 non-null   float64\n",
      " 9   Snowfall (cm)              8760 non-null   float64\n",
      " 10  Seasons                    8760 non-null   object \n",
      " 11  Holiday_No Holiday         8760 non-null   uint8  \n",
      " 12  Functioning Day_Yes        8760 non-null   uint8  \n",
      " 13  Hour_1                     8760 non-null   uint8  \n",
      " 14  Hour_2                     8760 non-null   uint8  \n",
      " 15  Hour_3                     8760 non-null   uint8  \n",
      " 16  Hour_4                     8760 non-null   uint8  \n",
      " 17  Hour_5                     8760 non-null   uint8  \n",
      " 18  Hour_6                     8760 non-null   uint8  \n",
      " 19  Hour_7                     8760 non-null   uint8  \n",
      " 20  Hour_8                     8760 non-null   uint8  \n",
      " 21  Hour_9                     8760 non-null   uint8  \n",
      " 22  Hour_10                    8760 non-null   uint8  \n",
      " 23  Hour_11                    8760 non-null   uint8  \n",
      " 24  Hour_12                    8760 non-null   uint8  \n",
      " 25  Hour_13                    8760 non-null   uint8  \n",
      " 26  Hour_14                    8760 non-null   uint8  \n",
      " 27  Hour_15                    8760 non-null   uint8  \n",
      " 28  Hour_16                    8760 non-null   uint8  \n",
      " 29  Hour_17                    8760 non-null   uint8  \n",
      " 30  Hour_18                    8760 non-null   uint8  \n",
      " 31  Hour_19                    8760 non-null   uint8  \n",
      " 32  Hour_20                    8760 non-null   uint8  \n",
      " 33  Hour_21                    8760 non-null   uint8  \n",
      " 34  Hour_22                    8760 non-null   uint8  \n",
      " 35  Hour_23                    8760 non-null   uint8  \n",
      "dtypes: float64(6), int64(3), object(2), uint8(25)\n",
      "memory usage: 966.8+ KB\n"
     ]
    }
   ],
   "source": [
    "df=pd.get_dummies(data,columns=['Holiday','Functioning Day','Hour'],drop_first=True)\n",
    "df.info()"
   ]
  },
  {
   "cell_type": "markdown",
   "id": "91cb178b",
   "metadata": {},
   "source": [
    "<html>\n",
    "<p style=\"color:purple;font-size:150%;\">\n",
    "    <b>Renaming Column Names</b></p>"
   ]
  },
  {
   "cell_type": "code",
   "execution_count": 245,
   "id": "0f0d4578",
   "metadata": {},
   "outputs": [],
   "source": [
    "df=df.rename(columns={'Holiday_No Holiday':'Holiday','Functioning Day_Yes':'Functioning_day'})"
   ]
  },
  {
   "cell_type": "markdown",
   "id": "f775fde0",
   "metadata": {},
   "source": [
    "<html>\n",
    "<p style=\"color:purple;font-size:150%;\">\n",
    "    <b>Deleting The Date Column</b></p>"
   ]
  },
  {
   "cell_type": "code",
   "execution_count": 175,
   "id": "d96144fa",
   "metadata": {},
   "outputs": [],
   "source": [
    "del df['Date']"
   ]
  },
  {
   "cell_type": "markdown",
   "id": "7c18c598",
   "metadata": {},
   "source": [
    "<html>\n",
    "<p style=\"color:purple;font-size:150%;\">\n",
    "    <b>Correlation</b></p>"
   ]
  },
  {
   "cell_type": "code",
   "execution_count": 176,
   "id": "24a47242",
   "metadata": {},
   "outputs": [
    {
     "data": {
      "text/html": [
       "<div>\n",
       "<style scoped>\n",
       "    .dataframe tbody tr th:only-of-type {\n",
       "        vertical-align: middle;\n",
       "    }\n",
       "\n",
       "    .dataframe tbody tr th {\n",
       "        vertical-align: top;\n",
       "    }\n",
       "\n",
       "    .dataframe thead th {\n",
       "        text-align: right;\n",
       "    }\n",
       "</style>\n",
       "<table border=\"1\" class=\"dataframe\">\n",
       "  <thead>\n",
       "    <tr style=\"text-align: right;\">\n",
       "      <th></th>\n",
       "      <th>Temperature(°C)</th>\n",
       "      <th>Wind speed (m/s)</th>\n",
       "      <th>Dew point temperature(°C)</th>\n",
       "      <th>Solar Radiation (MJ/m2)</th>\n",
       "      <th>Rainfall(mm)</th>\n",
       "      <th>Snowfall (cm)</th>\n",
       "    </tr>\n",
       "  </thead>\n",
       "  <tbody>\n",
       "    <tr>\n",
       "      <th>Temperature(°C)</th>\n",
       "      <td>1.000000</td>\n",
       "      <td>-0.036252</td>\n",
       "      <td>0.912798</td>\n",
       "      <td>0.353505</td>\n",
       "      <td>0.050282</td>\n",
       "      <td>-0.218405</td>\n",
       "    </tr>\n",
       "    <tr>\n",
       "      <th>Wind speed (m/s)</th>\n",
       "      <td>-0.036252</td>\n",
       "      <td>1.000000</td>\n",
       "      <td>-0.176486</td>\n",
       "      <td>0.332274</td>\n",
       "      <td>-0.019674</td>\n",
       "      <td>-0.003554</td>\n",
       "    </tr>\n",
       "    <tr>\n",
       "      <th>Dew point temperature(°C)</th>\n",
       "      <td>0.912798</td>\n",
       "      <td>-0.176486</td>\n",
       "      <td>1.000000</td>\n",
       "      <td>0.094381</td>\n",
       "      <td>0.125597</td>\n",
       "      <td>-0.150887</td>\n",
       "    </tr>\n",
       "    <tr>\n",
       "      <th>Solar Radiation (MJ/m2)</th>\n",
       "      <td>0.353505</td>\n",
       "      <td>0.332274</td>\n",
       "      <td>0.094381</td>\n",
       "      <td>1.000000</td>\n",
       "      <td>-0.074290</td>\n",
       "      <td>-0.072301</td>\n",
       "    </tr>\n",
       "    <tr>\n",
       "      <th>Rainfall(mm)</th>\n",
       "      <td>0.050282</td>\n",
       "      <td>-0.019674</td>\n",
       "      <td>0.125597</td>\n",
       "      <td>-0.074290</td>\n",
       "      <td>1.000000</td>\n",
       "      <td>0.008500</td>\n",
       "    </tr>\n",
       "    <tr>\n",
       "      <th>Snowfall (cm)</th>\n",
       "      <td>-0.218405</td>\n",
       "      <td>-0.003554</td>\n",
       "      <td>-0.150887</td>\n",
       "      <td>-0.072301</td>\n",
       "      <td>0.008500</td>\n",
       "      <td>1.000000</td>\n",
       "    </tr>\n",
       "  </tbody>\n",
       "</table>\n",
       "</div>"
      ],
      "text/plain": [
       "                           Temperature(°C)  Wind speed (m/s)  \\\n",
       "Temperature(°C)                   1.000000         -0.036252   \n",
       "Wind speed (m/s)                 -0.036252          1.000000   \n",
       "Dew point temperature(°C)         0.912798         -0.176486   \n",
       "Solar Radiation (MJ/m2)           0.353505          0.332274   \n",
       "Rainfall(mm)                      0.050282         -0.019674   \n",
       "Snowfall (cm)                    -0.218405         -0.003554   \n",
       "\n",
       "                           Dew point temperature(°C)  Solar Radiation (MJ/m2)  \\\n",
       "Temperature(°C)                             0.912798                 0.353505   \n",
       "Wind speed (m/s)                           -0.176486                 0.332274   \n",
       "Dew point temperature(°C)                   1.000000                 0.094381   \n",
       "Solar Radiation (MJ/m2)                     0.094381                 1.000000   \n",
       "Rainfall(mm)                                0.125597                -0.074290   \n",
       "Snowfall (cm)                              -0.150887                -0.072301   \n",
       "\n",
       "                           Rainfall(mm)  Snowfall (cm)  \n",
       "Temperature(°C)                0.050282      -0.218405  \n",
       "Wind speed (m/s)              -0.019674      -0.003554  \n",
       "Dew point temperature(°C)      0.125597      -0.150887  \n",
       "Solar Radiation (MJ/m2)       -0.074290      -0.072301  \n",
       "Rainfall(mm)                   1.000000       0.008500  \n",
       "Snowfall (cm)                  0.008500       1.000000  "
      ]
     },
     "execution_count": 176,
     "metadata": {},
     "output_type": "execute_result"
    }
   ],
   "source": [
    "df.select_dtypes(include=['float']).corr()"
   ]
  },
  {
   "cell_type": "markdown",
   "id": "cece8cec",
   "metadata": {},
   "source": [
    "<html>\n",
    "<p style=\"color:purple;font-size:150%;\">\n",
    "    <b>Correlation Plot</b></p>"
   ]
  },
  {
   "cell_type": "code",
   "execution_count": 177,
   "id": "620f6e13",
   "metadata": {
    "scrolled": false
   },
   "outputs": [
    {
     "data": {
      "image/png": "[encoded data removed]",
      "text/plain": [
       "<Figure size 1440x1080 with 2 Axes>"
      ]
     },
     "metadata": {
      "needs_background": "light"
     },
     "output_type": "display_data"
    }
   ],
   "source": [
    "plt.figure(figsize=(20,15))\n",
    "sns.heatmap(df.select_dtypes(include=['float']).corr(),annot=True)\n",
    "plt.title('Correlation Plot')\n",
    "plt.show()"
   ]
  },
  {
   "cell_type": "markdown",
   "id": "914bb0b3",
   "metadata": {},
   "source": [
    "<html>\n",
    "<p style=\"color:purple;font-size:200%;\">\n",
    "    <b>Outlier Detection</b></p>"
   ]
  },
  {
   "cell_type": "markdown",
   "id": "4b96c934",
   "metadata": {},
   "source": [
    "<html>\n",
    "<p style=\"color:purple;font-size:150%;\">\n",
    "    <b>Distribution plot</b></p>"
   ]
  },
  {
   "cell_type": "code",
   "execution_count": 178,
   "id": "d5e7941d",
   "metadata": {},
   "outputs": [
    {
     "data": {
      "image/png": "[encoded data removed]",
      "text/plain": [
       "<Figure size 1296x1296 with 6 Axes>"
      ]
     },
     "metadata": {
      "needs_background": "light"
     },
     "output_type": "display_data"
    }
   ],
   "source": [
    "plt.figure(figsize=(18,18))\n",
    "for i ,col in enumerate (df.select_dtypes(include=['float']).columns):\n",
    "    plt.rcParams['axes.facecolor']='black'\n",
    "    ax=plt.subplot(7,4,i+1)\n",
    "    sns.histplot(data=df,x=col,ax=ax,color='red',kde=True)\n",
    "plt.suptitle('Data Distribution Plot')\n",
    "plt.tight_layout()"
   ]
  },
  {
   "cell_type": "markdown",
   "id": "4fab618d",
   "metadata": {},
   "source": [
    "<html>\n",
    "<p style=\"color:purple;font-size:150%;\">\n",
    "    <b>Box-plot</b></p>"
   ]
  },
  {
   "cell_type": "code",
   "execution_count": 179,
   "id": "9a355733",
   "metadata": {},
   "outputs": [
    {
     "data": {
      "image/png": "[encoded data removed]",
      "text/plain": [
       "<Figure size 1296x1296 with 6 Axes>"
      ]
     },
     "metadata": {
      "needs_background": "light"
     },
     "output_type": "display_data"
    }
   ],
   "source": [
    "plt.figure(figsize=(18,18))\n",
    "for i ,col in enumerate (df.select_dtypes(include=['float']).columns):\n",
    "    plt.rcParams['axes.facecolor']='black'\n",
    "    ax=plt.subplot(5,4,i+1)\n",
    "    sns.boxplot(data=df,x=col,ax=ax,color='red')\n",
    "plt.suptitle('Box Plot')\n",
    "plt.tight_layout()"
   ]
  },
  {
   "cell_type": "markdown",
   "id": "0bbff4fc",
   "metadata": {},
   "source": [
    "<html>\n",
    "<p style=\"color:purple;font-size:150%;\">\n",
    "    <b>Bar-Plot For categorical variables </b></p>"
   ]
  },
  {
   "cell_type": "code",
   "execution_count": 180,
   "id": "025146df",
   "metadata": {},
   "outputs": [
    {
     "data": {
      "image/png": "[encoded data removed]",
      "text/plain": [
       "<Figure size 432x288 with 1 Axes>"
      ]
     },
     "metadata": {
      "needs_background": "light"
     },
     "output_type": "display_data"
    }
   ],
   "source": [
    "plt.hist(df.Seasons)\n",
    "plt.title('Seasons')\n",
    "plt.xlabel('Seasons')\n",
    "plt.ylabel('samples')\n",
    "plt.show()"
   ]
  },
  {
   "cell_type": "code",
   "execution_count": 181,
   "id": "b9079017",
   "metadata": {},
   "outputs": [
    {
     "data": {
      "image/png": "[encoded data removed]",
      "text/plain": [
       "<Figure size 432x288 with 1 Axes>"
      ]
     },
     "metadata": {
      "needs_background": "light"
     },
     "output_type": "display_data"
    }
   ],
   "source": [
    "plt.hist(df.Functioning_day )\n",
    "plt.title('Functioning Day')\n",
    "plt.xlabel('Yes(1)/No(0)')\n",
    "plt.ylabel('samples')\n",
    "plt.show()"
   ]
  },
  {
   "cell_type": "code",
   "execution_count": 182,
   "id": "f7f5f43d",
   "metadata": {},
   "outputs": [
    {
     "data": {
      "image/png": "[encoded data removed]",
      "text/plain": [
       "<Figure size 432x288 with 1 Axes>"
      ]
     },
     "metadata": {
      "needs_background": "light"
     },
     "output_type": "display_data"
    }
   ],
   "source": [
    "plt.hist(df.Holiday)\n",
    "plt.title('Holiday day')\n",
    "plt.xlabel('Yes(1)/No(0)')\n",
    "plt.ylabel('samples')\n",
    "plt.show()"
   ]
  },
  {
   "cell_type": "markdown",
   "id": "39a450ac",
   "metadata": {},
   "source": [
    "<html>\n",
    "<p style=\"color:purple;font-size:150%;\">\n",
    "    <b>Dividing the data into Independent and dependent variable</b></p>"
   ]
  },
  {
   "cell_type": "code",
   "execution_count": 246,
   "id": "136f88ce",
   "metadata": {},
   "outputs": [],
   "source": [
    "X=df.iloc[:,1:].values\n",
    "y=df.iloc[:,0].values"
   ]
  },
  {
   "cell_type": "code",
   "execution_count": 184,
   "id": "32e608f3",
   "metadata": {},
   "outputs": [
    {
     "data": {
      "text/plain": [
       "array([[-5.2, 37, 2.2, ..., 0, 0, 0],\n",
       "       [-5.5, 38, 0.8, ..., 0, 0, 0],\n",
       "       [-6.0, 39, 1.0, ..., 0, 0, 0],\n",
       "       ...,\n",
       "       [2.6, 39, 0.3, ..., 1, 0, 0],\n",
       "       [2.1, 41, 1.0, ..., 0, 1, 0],\n",
       "       [1.9, 43, 1.3, ..., 0, 0, 1]], dtype=object)"
      ]
     },
     "execution_count": 184,
     "metadata": {},
     "output_type": "execute_result"
    }
   ],
   "source": [
    "X"
   ]
  },
  {
   "cell_type": "markdown",
   "id": "eea764cd",
   "metadata": {},
   "source": [
    "<html>\n",
    "<p style=\"color:purple;font-size:150%;\">\n",
    "    <b>Checking for  Multicollinearity(VIF FACTORS)</b></p>"
   ]
  },
  {
   "cell_type": "code",
   "execution_count": 185,
   "id": "8e972109",
   "metadata": {},
   "outputs": [],
   "source": [
    "from statsmodels.stats.outliers_influence import variance_inflation_factor\n",
    "\n",
    "def calc_vif(X):\n",
    "\n",
    "    # Calculating VIF\n",
    "    vif = pd.DataFrame()\n",
    "    vif[\"variables\"] = X.columns\n",
    "    vif[\"VIF\"] = [variance_inflation_factor(X.values, i) for i in range(X.shape[1])]\n",
    "\n",
    "    return(vif)"
   ]
  },
  {
   "cell_type": "code",
   "execution_count": 186,
   "id": "380369de",
   "metadata": {},
   "outputs": [
    {
     "data": {
      "text/html": [
       "<div>\n",
       "<style scoped>\n",
       "    .dataframe tbody tr th:only-of-type {\n",
       "        vertical-align: middle;\n",
       "    }\n",
       "\n",
       "    .dataframe tbody tr th {\n",
       "        vertical-align: top;\n",
       "    }\n",
       "\n",
       "    .dataframe thead th {\n",
       "        text-align: right;\n",
       "    }\n",
       "</style>\n",
       "<table border=\"1\" class=\"dataframe\">\n",
       "  <thead>\n",
       "    <tr style=\"text-align: right;\">\n",
       "      <th></th>\n",
       "      <th>variables</th>\n",
       "      <th>VIF</th>\n",
       "    </tr>\n",
       "  </thead>\n",
       "  <tbody>\n",
       "    <tr>\n",
       "      <th>0</th>\n",
       "      <td>Temperature(°C)</td>\n",
       "      <td>12.694897</td>\n",
       "    </tr>\n",
       "    <tr>\n",
       "      <th>1</th>\n",
       "      <td>Wind speed (m/s)</td>\n",
       "      <td>3.464617</td>\n",
       "    </tr>\n",
       "    <tr>\n",
       "      <th>2</th>\n",
       "      <td>Dew point temperature(°C)</td>\n",
       "      <td>7.319015</td>\n",
       "    </tr>\n",
       "    <tr>\n",
       "      <th>3</th>\n",
       "      <td>Solar Radiation (MJ/m2)</td>\n",
       "      <td>2.209048</td>\n",
       "    </tr>\n",
       "    <tr>\n",
       "      <th>4</th>\n",
       "      <td>Rainfall(mm)</td>\n",
       "      <td>1.047192</td>\n",
       "    </tr>\n",
       "    <tr>\n",
       "      <th>5</th>\n",
       "      <td>Snowfall (cm)</td>\n",
       "      <td>1.043320</td>\n",
       "    </tr>\n",
       "  </tbody>\n",
       "</table>\n",
       "</div>"
      ],
      "text/plain": [
       "                   variables        VIF\n",
       "0            Temperature(°C)  12.694897\n",
       "1           Wind speed (m/s)   3.464617\n",
       "2  Dew point temperature(°C)   7.319015\n",
       "3    Solar Radiation (MJ/m2)   2.209048\n",
       "4               Rainfall(mm)   1.047192\n",
       "5              Snowfall (cm)   1.043320"
      ]
     },
     "execution_count": 186,
     "metadata": {},
     "output_type": "execute_result"
    }
   ],
   "source": [
    "var=df.select_dtypes(include=['float']).columns\n",
    "VIF=calc_vif(df[var])\n",
    "VIF"
   ]
  },
  {
   "cell_type": "markdown",
   "id": "cf5bfcb1",
   "metadata": {},
   "source": [
    "### Since the VIF of 'Temperature' is more than 10 so it will cause multicollinearity issue so we will drop Temperature column."
   ]
  },
  {
   "cell_type": "code",
   "execution_count": 187,
   "id": "eb81e253",
   "metadata": {},
   "outputs": [
    {
     "data": {
      "text/plain": [
       "array([[37, 2.2, 2000, ..., 0, 0, 0],\n",
       "       [38, 0.8, 2000, ..., 0, 0, 0],\n",
       "       [39, 1.0, 2000, ..., 0, 0, 0],\n",
       "       ...,\n",
       "       [39, 0.3, 1968, ..., 1, 0, 0],\n",
       "       [41, 1.0, 1859, ..., 0, 1, 0],\n",
       "       [43, 1.3, 1909, ..., 0, 0, 1]], dtype=object)"
      ]
     },
     "execution_count": 187,
     "metadata": {},
     "output_type": "execute_result"
    }
   ],
   "source": [
    "X1=df.iloc[:,2:].values\n",
    "X1"
   ]
  },
  {
   "cell_type": "markdown",
   "id": "88aea34a",
   "metadata": {},
   "source": [
    "<html>\n",
    "<p style=\"color:purple;font-size:150%;\">\n",
    "    <b>Splitting our dataset into train and test set</b></p>"
   ]
  },
  {
   "cell_type": "code",
   "execution_count": 188,
   "id": "67a5d10e",
   "metadata": {},
   "outputs": [],
   "source": [
    "from sklearn.model_selection import train_test_split"
   ]
  },
  {
   "cell_type": "code",
   "execution_count": 189,
   "id": "6f914b25",
   "metadata": {},
   "outputs": [],
   "source": [
    "X_train,X_test,y_train,y_test=train_test_split(X1,y,test_size=0.25,random_state=0,stratify=X1[:,7])"
   ]
  },
  {
   "cell_type": "code",
   "execution_count": 190,
   "id": "4b7cbc94",
   "metadata": {},
   "outputs": [],
   "source": [
    "y_train=y_train.reshape(len(y_train),1)\n",
    "y_test=y_test.reshape(len(y_test),1)"
   ]
  },
  {
   "cell_type": "code",
   "execution_count": 191,
   "id": "c18f010f",
   "metadata": {},
   "outputs": [
    {
     "data": {
      "text/plain": [
       "array([[   0],\n",
       "       [1165],\n",
       "       [1407],\n",
       "       ...,\n",
       "       [ 867],\n",
       "       [ 426],\n",
       "       [2281]], dtype=int64)"
      ]
     },
     "execution_count": 191,
     "metadata": {},
     "output_type": "execute_result"
    }
   ],
   "source": [
    "y_train"
   ]
  },
  {
   "cell_type": "code",
   "execution_count": 192,
   "id": "8c0c5f38",
   "metadata": {},
   "outputs": [],
   "source": [
    "from sklearn.compose import ColumnTransformer\n",
    "from sklearn.preprocessing import OneHotEncoder\n",
    "ct=ColumnTransformer(transformers=[('encoder',OneHotEncoder(),[7])],remainder='passthrough')\n",
    "X_train=ct.fit_transform(X_train)\n",
    "X_test=ct.transform(X_test)"
   ]
  },
  {
   "cell_type": "code",
   "execution_count": 193,
   "id": "3947e0cb",
   "metadata": {},
   "outputs": [],
   "source": [
    "from sklearn.preprocessing import PowerTransformer"
   ]
  },
  {
   "cell_type": "code",
   "execution_count": 194,
   "id": "f687dc98",
   "metadata": {},
   "outputs": [],
   "source": [
    "sc_X=PowerTransformer(method = 'yeo-johnson')\n",
    "sc_Y=PowerTransformer(method = 'yeo-johnson')"
   ]
  },
  {
   "cell_type": "code",
   "execution_count": 195,
   "id": "862baa8d",
   "metadata": {},
   "outputs": [],
   "source": [
    "X_train=sc_X.fit_transform(X_train)\n",
    "X_test=sc_X.transform(X_test)"
   ]
  },
  {
   "cell_type": "code",
   "execution_count": 196,
   "id": "3aa3e117",
   "metadata": {},
   "outputs": [],
   "source": [
    "y_train=sc_Y.fit_transform(y_train)\n",
    "y_test=sc_Y.transform(y_test)"
   ]
  },
  {
   "cell_type": "markdown",
   "id": "66d4e5fa",
   "metadata": {},
   "source": [
    "<html>\n",
    "<p style=\"color:purple;font-size:250%;\">\n",
    "    <b>Modeling</b></p>"
   ]
  },
  {
   "cell_type": "markdown",
   "id": "c1184e73",
   "metadata": {},
   "source": [
    "<html>\n",
    "<p style=\"color:purple;font-size:200%;\">\n",
    "    <b>1.Linear Regression</b></p>"
   ]
  },
  {
   "cell_type": "code",
   "execution_count": 197,
   "id": "d83b8436",
   "metadata": {},
   "outputs": [],
   "source": [
    "from sklearn.linear_model import LinearRegression"
   ]
  },
  {
   "cell_type": "code",
   "execution_count": 198,
   "id": "bd007f7b",
   "metadata": {},
   "outputs": [],
   "source": [
    "model1=LinearRegression()"
   ]
  },
  {
   "cell_type": "code",
   "execution_count": 199,
   "id": "47bde5ae",
   "metadata": {},
   "outputs": [
    {
     "data": {
      "text/html": [
       "<style>#sk-container-id-11 {color: black;background-color: white;}#sk-container-id-11 pre{padding: 0;}#sk-container-id-11 div.sk-toggleable {background-color: white;}#sk-container-id-11 label.sk-toggleable__label {cursor: pointer;display: block;width: 100%;margin-bottom: 0;padding: 0.3em;box-sizing: border-box;text-align: center;}#sk-container-id-11 label.sk-toggleable__label-arrow:before {content: \"▸\";float: left;margin-right: 0.25em;color: #696969;}#sk-container-id-11 label.sk-toggleable__label-arrow:hover:before {color: black;}#sk-container-id-11 div.sk-estimator:hover label.sk-toggleable__label-arrow:before {color: black;}#sk-container-id-11 div.sk-toggleable__content {max-height: 0;max-width: 0;overflow: hidden;text-align: left;background-color: #f0f8ff;}#sk-container-id-11 div.sk-toggleable__content pre {margin: 0.2em;color: black;border-radius: 0.25em;background-color: #f0f8ff;}#sk-container-id-11 input.sk-toggleable__control:checked~div.sk-toggleable__content {max-height: 200px;max-width: 100%;overflow: auto;}#sk-container-id-11 input.sk-toggleable__control:checked~label.sk-toggleable__label-arrow:before {content: \"▾\";}#sk-container-id-11 div.sk-estimator input.sk-toggleable__control:checked~label.sk-toggleable__label {background-color: #d4ebff;}#sk-container-id-11 div.sk-label input.sk-toggleable__control:checked~label.sk-toggleable__label {background-color: #d4ebff;}#sk-container-id-11 input.sk-hidden--visually {border: 0;clip: rect(1px 1px 1px 1px);clip: rect(1px, 1px, 1px, 1px);height: 1px;margin: -1px;overflow: hidden;padding: 0;position: absolute;width: 1px;}#sk-container-id-11 div.sk-estimator {font-family: monospace;background-color: #f0f8ff;border: 1px dotted black;border-radius: 0.25em;box-sizing: border-box;margin-bottom: 0.5em;}#sk-container-id-11 div.sk-estimator:hover {background-color: #d4ebff;}#sk-container-id-11 div.sk-parallel-item::after {content: \"\";width: 100%;border-bottom: 1px solid gray;flex-grow: 1;}#sk-container-id-11 div.sk-label:hover label.sk-toggleable__label {background-color: #d4ebff;}#sk-container-id-11 div.sk-serial::before {content: \"\";position: absolute;border-left: 1px solid gray;box-sizing: border-box;top: 0;bottom: 0;left: 50%;z-index: 0;}#sk-container-id-11 div.sk-serial {display: flex;flex-direction: column;align-items: center;background-color: white;padding-right: 0.2em;padding-left: 0.2em;position: relative;}#sk-container-id-11 div.sk-item {position: relative;z-index: 1;}#sk-container-id-11 div.sk-parallel {display: flex;align-items: stretch;justify-content: center;background-color: white;position: relative;}#sk-container-id-11 div.sk-item::before, #sk-container-id-11 div.sk-parallel-item::before {content: \"\";position: absolute;border-left: 1px solid gray;box-sizing: border-box;top: 0;bottom: 0;left: 50%;z-index: -1;}#sk-container-id-11 div.sk-parallel-item {display: flex;flex-direction: column;z-index: 1;position: relative;background-color: white;}#sk-container-id-11 div.sk-parallel-item:first-child::after {align-self: flex-end;width: 50%;}#sk-container-id-11 div.sk-parallel-item:last-child::after {align-self: flex-start;width: 50%;}#sk-container-id-11 div.sk-parallel-item:only-child::after {width: 0;}#sk-container-id-11 div.sk-dashed-wrapped {border: 1px dashed gray;margin: 0 0.4em 0.5em 0.4em;box-sizing: border-box;padding-bottom: 0.4em;background-color: white;}#sk-container-id-11 div.sk-label label {font-family: monospace;font-weight: bold;display: inline-block;line-height: 1.2em;}#sk-container-id-11 div.sk-label-container {text-align: center;}#sk-container-id-11 div.sk-container {/* jupyter's `normalize.less` sets `[hidden] { display: none; }` but bootstrap.min.css set `[hidden] { display: none !important; }` so we also need the `!important` here to be able to override the default hidden behavior on the sphinx rendered scikit-learn.org. See: https://github.com/scikit-learn/scikit-learn/issues/21755 */display: inline-block !important;position: relative;}#sk-container-id-11 div.sk-text-repr-fallback {display: none;}</style><div id=\"sk-container-id-11\" class=\"sk-top-container\"><div class=\"sk-text-repr-fallback\"><pre>LinearRegression()</pre><b>In a Jupyter environment, please rerun this cell to show the HTML representation or trust the notebook. <br />On GitHub, the HTML representation is unable to render, please try loading this page with nbviewer.org.</b></div><div class=\"sk-container\" hidden><div class=\"sk-item\"><div class=\"sk-estimator sk-toggleable\"><input class=\"sk-toggleable__control sk-hidden--visually\" id=\"sk-estimator-id-15\" type=\"checkbox\" checked><label for=\"sk-estimator-id-15\" class=\"sk-toggleable__label sk-toggleable__label-arrow\">LinearRegression</label><div class=\"sk-toggleable__content\"><pre>LinearRegression()</pre></div></div></div></div></div>"
      ],
      "text/plain": [
       "LinearRegression()"
      ]
     },
     "execution_count": 199,
     "metadata": {},
     "output_type": "execute_result"
    }
   ],
   "source": [
    "model1.fit(X_train,y_train)"
   ]
  },
  {
   "cell_type": "code",
   "execution_count": 200,
   "id": "5802c220",
   "metadata": {},
   "outputs": [],
   "source": [
    "from sklearn.metrics import r2_score"
   ]
  },
  {
   "cell_type": "code",
   "execution_count": 201,
   "id": "eface224",
   "metadata": {},
   "outputs": [],
   "source": [
    "y_pred1=model1.predict(X_test)"
   ]
  },
  {
   "cell_type": "code",
   "execution_count": 202,
   "id": "0738e3f3",
   "metadata": {},
   "outputs": [],
   "source": [
    "rscore1=r2_score(y_test,y_pred1)"
   ]
  },
  {
   "cell_type": "code",
   "execution_count": 203,
   "id": "aaccdc2e",
   "metadata": {},
   "outputs": [
    {
     "data": {
      "text/plain": [
       "0.8004702132834891"
      ]
     },
     "execution_count": 203,
     "metadata": {},
     "output_type": "execute_result"
    }
   ],
   "source": [
    "rscore1"
   ]
  },
  {
   "cell_type": "markdown",
   "id": "52c9c2db",
   "metadata": {},
   "source": [
    "<html>\n",
    "<p style=\"color:purple;font-size:120%;\">\n",
    "    <b> Model Fitting and Summary </b></p>"
   ]
  },
  {
   "cell_type": "code",
   "execution_count": 204,
   "id": "eeb78645",
   "metadata": {},
   "outputs": [
    {
     "data": {
      "text/html": [
       "<table class=\"simpletable\">\n",
       "<caption>OLS Regression Results</caption>\n",
       "<tr>\n",
       "  <th>Dep. Variable:</th>            <td>y</td>        <th>  R-squared (uncentered):</th>      <td>   0.803</td>\n",
       "</tr>\n",
       "<tr>\n",
       "  <th>Model:</th>                   <td>OLS</td>       <th>  Adj. R-squared (uncentered):</th> <td>   0.802</td>\n",
       "</tr>\n",
       "<tr>\n",
       "  <th>Method:</th>             <td>Least Squares</td>  <th>  F-statistic:       </th>          <td>   762.9</td>\n",
       "</tr>\n",
       "<tr>\n",
       "  <th>Date:</th>             <td>Sun, 28 Aug 2022</td> <th>  Prob (F-statistic):</th>           <td>  0.00</td> \n",
       "</tr>\n",
       "<tr>\n",
       "  <th>Time:</th>                 <td>11:39:22</td>     <th>  Log-Likelihood:    </th>          <td> -3979.3</td>\n",
       "</tr>\n",
       "<tr>\n",
       "  <th>No. Observations:</th>      <td>  6570</td>      <th>  AIC:               </th>          <td>   8029.</td>\n",
       "</tr>\n",
       "<tr>\n",
       "  <th>Df Residuals:</th>          <td>  6535</td>      <th>  BIC:               </th>          <td>   8266.</td>\n",
       "</tr>\n",
       "<tr>\n",
       "  <th>Df Model:</th>              <td>    35</td>      <th>                     </th>              <td> </td>   \n",
       "</tr>\n",
       "<tr>\n",
       "  <th>Covariance Type:</th>      <td>nonrobust</td>    <th>                     </th>              <td> </td>   \n",
       "</tr>\n",
       "</table>\n",
       "<table class=\"simpletable\">\n",
       "<tr>\n",
       "   <td></td>      <th>coef</th>     <th>std err</th>      <th>t</th>      <th>P>|t|</th>  <th>[0.025</th>    <th>0.975]</th>  \n",
       "</tr>\n",
       "<tr>\n",
       "  <th>x1</th>  <td>-6.453e+11</td> <td> 9.83e+11</td> <td>   -0.656</td> <td> 0.512</td> <td>-2.57e+12</td> <td> 1.28e+12</td>\n",
       "</tr>\n",
       "<tr>\n",
       "  <th>x2</th>  <td>-6.477e+11</td> <td> 9.87e+11</td> <td>   -0.656</td> <td> 0.512</td> <td>-2.58e+12</td> <td> 1.29e+12</td>\n",
       "</tr>\n",
       "<tr>\n",
       "  <th>x3</th>  <td>-6.477e+11</td> <td> 9.87e+11</td> <td>   -0.656</td> <td> 0.512</td> <td>-2.58e+12</td> <td> 1.29e+12</td>\n",
       "</tr>\n",
       "<tr>\n",
       "  <th>x4</th>  <td>-6.429e+11</td> <td> 9.79e+11</td> <td>   -0.656</td> <td> 0.512</td> <td>-2.56e+12</td> <td> 1.28e+12</td>\n",
       "</tr>\n",
       "<tr>\n",
       "  <th>x5</th>  <td>   -0.2629</td> <td>    0.012</td> <td>  -22.620</td> <td> 0.000</td> <td>   -0.286</td> <td>   -0.240</td>\n",
       "</tr>\n",
       "<tr>\n",
       "  <th>x6</th>  <td>   -0.0169</td> <td>    0.006</td> <td>   -2.601</td> <td> 0.009</td> <td>   -0.030</td> <td>   -0.004</td>\n",
       "</tr>\n",
       "<tr>\n",
       "  <th>x7</th>  <td>    0.0015</td> <td>    0.007</td> <td>    0.208</td> <td> 0.835</td> <td>   -0.012</td> <td>    0.015</td>\n",
       "</tr>\n",
       "<tr>\n",
       "  <th>x8</th>  <td>    0.3775</td> <td>    0.015</td> <td>   25.955</td> <td> 0.000</td> <td>    0.349</td> <td>    0.406</td>\n",
       "</tr>\n",
       "<tr>\n",
       "  <th>x9</th>  <td>    0.2517</td> <td>    0.016</td> <td>   15.614</td> <td> 0.000</td> <td>    0.220</td> <td>    0.283</td>\n",
       "</tr>\n",
       "<tr>\n",
       "  <th>x10</th> <td>   -0.2567</td> <td>    0.006</td> <td>  -41.655</td> <td> 0.000</td> <td>   -0.269</td> <td>   -0.245</td>\n",
       "</tr>\n",
       "<tr>\n",
       "  <th>x11</th> <td>    0.0023</td> <td>    0.006</td> <td>    0.379</td> <td> 0.704</td> <td>   -0.010</td> <td>    0.014</td>\n",
       "</tr>\n",
       "<tr>\n",
       "  <th>x12</th> <td>    0.0419</td> <td>    0.006</td> <td>    7.547</td> <td> 0.000</td> <td>    0.031</td> <td>    0.053</td>\n",
       "</tr>\n",
       "<tr>\n",
       "  <th>x13</th> <td>    0.4745</td> <td>    0.006</td> <td>   82.696</td> <td> 0.000</td> <td>    0.463</td> <td>    0.486</td>\n",
       "</tr>\n",
       "<tr>\n",
       "  <th>x14</th> <td>   -0.0365</td> <td>    0.008</td> <td>   -4.745</td> <td> 0.000</td> <td>   -0.052</td> <td>   -0.021</td>\n",
       "</tr>\n",
       "<tr>\n",
       "  <th>x15</th> <td>   -0.0820</td> <td>    0.008</td> <td>  -10.537</td> <td> 0.000</td> <td>   -0.097</td> <td>   -0.067</td>\n",
       "</tr>\n",
       "<tr>\n",
       "  <th>x16</th> <td>   -0.1173</td> <td>    0.008</td> <td>  -15.397</td> <td> 0.000</td> <td>   -0.132</td> <td>   -0.102</td>\n",
       "</tr>\n",
       "<tr>\n",
       "  <th>x17</th> <td>   -0.1747</td> <td>    0.008</td> <td>  -22.681</td> <td> 0.000</td> <td>   -0.190</td> <td>   -0.160</td>\n",
       "</tr>\n",
       "<tr>\n",
       "  <th>x18</th> <td>   -0.1659</td> <td>    0.008</td> <td>  -21.687</td> <td> 0.000</td> <td>   -0.181</td> <td>   -0.151</td>\n",
       "</tr>\n",
       "<tr>\n",
       "  <th>x19</th> <td>   -0.0751</td> <td>    0.008</td> <td>   -9.837</td> <td> 0.000</td> <td>   -0.090</td> <td>   -0.060</td>\n",
       "</tr>\n",
       "<tr>\n",
       "  <th>x20</th> <td>   -0.0098</td> <td>    0.008</td> <td>   -1.225</td> <td> 0.220</td> <td>   -0.025</td> <td>    0.006</td>\n",
       "</tr>\n",
       "<tr>\n",
       "  <th>x21</th> <td>    0.0647</td> <td>    0.008</td> <td>    7.794</td> <td> 0.000</td> <td>    0.048</td> <td>    0.081</td>\n",
       "</tr>\n",
       "<tr>\n",
       "  <th>x22</th> <td>   -0.0487</td> <td>    0.009</td> <td>   -5.351</td> <td> 0.000</td> <td>   -0.067</td> <td>   -0.031</td>\n",
       "</tr>\n",
       "<tr>\n",
       "  <th>x23</th> <td>   -0.1215</td> <td>    0.010</td> <td>  -12.482</td> <td> 0.000</td> <td>   -0.141</td> <td>   -0.102</td>\n",
       "</tr>\n",
       "<tr>\n",
       "  <th>x24</th> <td>   -0.1163</td> <td>    0.010</td> <td>  -11.786</td> <td> 0.000</td> <td>   -0.136</td> <td>   -0.097</td>\n",
       "</tr>\n",
       "<tr>\n",
       "  <th>x25</th> <td>   -0.0997</td> <td>    0.010</td> <td>  -10.108</td> <td> 0.000</td> <td>   -0.119</td> <td>   -0.080</td>\n",
       "</tr>\n",
       "<tr>\n",
       "  <th>x26</th> <td>   -0.1021</td> <td>    0.010</td> <td>   -9.926</td> <td> 0.000</td> <td>   -0.122</td> <td>   -0.082</td>\n",
       "</tr>\n",
       "<tr>\n",
       "  <th>x27</th> <td>   -0.0978</td> <td>    0.010</td> <td>   -9.659</td> <td> 0.000</td> <td>   -0.118</td> <td>   -0.078</td>\n",
       "</tr>\n",
       "<tr>\n",
       "  <th>x28</th> <td>   -0.0742</td> <td>    0.010</td> <td>   -7.586</td> <td> 0.000</td> <td>   -0.093</td> <td>   -0.055</td>\n",
       "</tr>\n",
       "<tr>\n",
       "  <th>x29</th> <td>   -0.0467</td> <td>    0.009</td> <td>   -4.936</td> <td> 0.000</td> <td>   -0.065</td> <td>   -0.028</td>\n",
       "</tr>\n",
       "<tr>\n",
       "  <th>x30</th> <td>    0.0175</td> <td>    0.009</td> <td>    1.951</td> <td> 0.051</td> <td>-8.06e-05</td> <td>    0.035</td>\n",
       "</tr>\n",
       "<tr>\n",
       "  <th>x31</th> <td>    0.1138</td> <td>    0.008</td> <td>   13.675</td> <td> 0.000</td> <td>    0.097</td> <td>    0.130</td>\n",
       "</tr>\n",
       "<tr>\n",
       "  <th>x32</th> <td>    0.0916</td> <td>    0.008</td> <td>   11.784</td> <td> 0.000</td> <td>    0.076</td> <td>    0.107</td>\n",
       "</tr>\n",
       "<tr>\n",
       "  <th>x33</th> <td>    0.0932</td> <td>    0.008</td> <td>   11.909</td> <td> 0.000</td> <td>    0.078</td> <td>    0.109</td>\n",
       "</tr>\n",
       "<tr>\n",
       "  <th>x34</th> <td>    0.1000</td> <td>    0.008</td> <td>   12.926</td> <td> 0.000</td> <td>    0.085</td> <td>    0.115</td>\n",
       "</tr>\n",
       "<tr>\n",
       "  <th>x35</th> <td>    0.0776</td> <td>    0.008</td> <td>    9.872</td> <td> 0.000</td> <td>    0.062</td> <td>    0.093</td>\n",
       "</tr>\n",
       "<tr>\n",
       "  <th>x36</th> <td>    0.0223</td> <td>    0.008</td> <td>    2.851</td> <td> 0.004</td> <td>    0.007</td> <td>    0.038</td>\n",
       "</tr>\n",
       "</table>\n",
       "<table class=\"simpletable\">\n",
       "<tr>\n",
       "  <th>Omnibus:</th>       <td>320.454</td> <th>  Durbin-Watson:     </th> <td>   1.992</td> \n",
       "</tr>\n",
       "<tr>\n",
       "  <th>Prob(Omnibus):</th> <td> 0.000</td>  <th>  Jarque-Bera (JB):  </th> <td> 604.027</td> \n",
       "</tr>\n",
       "<tr>\n",
       "  <th>Skew:</th>          <td>-0.368</td>  <th>  Prob(JB):          </th> <td>6.87e-132</td>\n",
       "</tr>\n",
       "<tr>\n",
       "  <th>Kurtosis:</th>      <td> 4.290</td>  <th>  Cond. No.          </th> <td>6.16e+14</td> \n",
       "</tr>\n",
       "</table><br/><br/>Notes:<br/>[1] R² is computed without centering (uncentered) since the model does not contain a constant.<br/>[2] Standard Errors assume that the covariance matrix of the errors is correctly specified.<br/>[3] The smallest eigenvalue is 5.1e-26. This might indicate that there are<br/>strong multicollinearity problems or that the design matrix is singular."
      ],
      "text/plain": [
       "<class 'statsmodels.iolib.summary.Summary'>\n",
       "\"\"\"\n",
       "                                 OLS Regression Results                                \n",
       "=======================================================================================\n",
       "Dep. Variable:                      y   R-squared (uncentered):                   0.803\n",
       "Model:                            OLS   Adj. R-squared (uncentered):              0.802\n",
       "Method:                 Least Squares   F-statistic:                              762.9\n",
       "Date:                Sun, 28 Aug 2022   Prob (F-statistic):                        0.00\n",
       "Time:                        11:39:22   Log-Likelihood:                         -3979.3\n",
       "No. Observations:                6570   AIC:                                      8029.\n",
       "Df Residuals:                    6535   BIC:                                      8266.\n",
       "Df Model:                          35                                                  \n",
       "Covariance Type:            nonrobust                                                  \n",
       "==============================================================================\n",
       "                 coef    std err          t      P>|t|      [0.025      0.975]\n",
       "------------------------------------------------------------------------------\n",
       "x1         -6.453e+11   9.83e+11     -0.656      0.512   -2.57e+12    1.28e+12\n",
       "x2         -6.477e+11   9.87e+11     -0.656      0.512   -2.58e+12    1.29e+12\n",
       "x3         -6.477e+11   9.87e+11     -0.656      0.512   -2.58e+12    1.29e+12\n",
       "x4         -6.429e+11   9.79e+11     -0.656      0.512   -2.56e+12    1.28e+12\n",
       "x5            -0.2629      0.012    -22.620      0.000      -0.286      -0.240\n",
       "x6            -0.0169      0.006     -2.601      0.009      -0.030      -0.004\n",
       "x7             0.0015      0.007      0.208      0.835      -0.012       0.015\n",
       "x8             0.3775      0.015     25.955      0.000       0.349       0.406\n",
       "x9             0.2517      0.016     15.614      0.000       0.220       0.283\n",
       "x10           -0.2567      0.006    -41.655      0.000      -0.269      -0.245\n",
       "x11            0.0023      0.006      0.379      0.704      -0.010       0.014\n",
       "x12            0.0419      0.006      7.547      0.000       0.031       0.053\n",
       "x13            0.4745      0.006     82.696      0.000       0.463       0.486\n",
       "x14           -0.0365      0.008     -4.745      0.000      -0.052      -0.021\n",
       "x15           -0.0820      0.008    -10.537      0.000      -0.097      -0.067\n",
       "x16           -0.1173      0.008    -15.397      0.000      -0.132      -0.102\n",
       "x17           -0.1747      0.008    -22.681      0.000      -0.190      -0.160\n",
       "x18           -0.1659      0.008    -21.687      0.000      -0.181      -0.151\n",
       "x19           -0.0751      0.008     -9.837      0.000      -0.090      -0.060\n",
       "x20           -0.0098      0.008     -1.225      0.220      -0.025       0.006\n",
       "x21            0.0647      0.008      7.794      0.000       0.048       0.081\n",
       "x22           -0.0487      0.009     -5.351      0.000      -0.067      -0.031\n",
       "x23           -0.1215      0.010    -12.482      0.000      -0.141      -0.102\n",
       "x24           -0.1163      0.010    -11.786      0.000      -0.136      -0.097\n",
       "x25           -0.0997      0.010    -10.108      0.000      -0.119      -0.080\n",
       "x26           -0.1021      0.010     -9.926      0.000      -0.122      -0.082\n",
       "x27           -0.0978      0.010     -9.659      0.000      -0.118      -0.078\n",
       "x28           -0.0742      0.010     -7.586      0.000      -0.093      -0.055\n",
       "x29           -0.0467      0.009     -4.936      0.000      -0.065      -0.028\n",
       "x30            0.0175      0.009      1.951      0.051   -8.06e-05       0.035\n",
       "x31            0.1138      0.008     13.675      0.000       0.097       0.130\n",
       "x32            0.0916      0.008     11.784      0.000       0.076       0.107\n",
       "x33            0.0932      0.008     11.909      0.000       0.078       0.109\n",
       "x34            0.1000      0.008     12.926      0.000       0.085       0.115\n",
       "x35            0.0776      0.008      9.872      0.000       0.062       0.093\n",
       "x36            0.0223      0.008      2.851      0.004       0.007       0.038\n",
       "==============================================================================\n",
       "Omnibus:                      320.454   Durbin-Watson:                   1.992\n",
       "Prob(Omnibus):                  0.000   Jarque-Bera (JB):              604.027\n",
       "Skew:                          -0.368   Prob(JB):                    6.87e-132\n",
       "Kurtosis:                       4.290   Cond. No.                     6.16e+14\n",
       "==============================================================================\n",
       "\n",
       "Notes:\n",
       "[1] R² is computed without centering (uncentered) since the model does not contain a constant.\n",
       "[2] Standard Errors assume that the covariance matrix of the errors is correctly specified.\n",
       "[3] The smallest eigenvalue is 5.1e-26. This might indicate that there are\n",
       "strong multicollinearity problems or that the design matrix is singular.\n",
       "\"\"\""
      ]
     },
     "execution_count": 204,
     "metadata": {},
     "output_type": "execute_result"
    }
   ],
   "source": [
    "import statsmodels.api as sm\n",
    "lin_reg=sm.OLS(y_train,X_train).fit()\n",
    "lin_reg.summary()\n"
   ]
  },
  {
   "cell_type": "markdown",
   "id": "ea84a2a4",
   "metadata": {},
   "source": [
    "<html>\n",
    "<p style=\"color:purple;font-size:250%;\">\n",
    "    <b>Assumptions Of linear Regression</b></p>"
   ]
  },
  {
   "cell_type": "markdown",
   "id": "d3b12bfb",
   "metadata": {},
   "source": [
    "<html>\n",
    "<p style=\"color:purple;font-size:150%;\">\n",
    "    <b>1.Checking for normality of the residuals</b></p>"
   ]
  },
  {
   "cell_type": "code",
   "execution_count": 205,
   "id": "bc79f790",
   "metadata": {},
   "outputs": [
    {
     "data": {
      "image/png": "[encoded data removed]",
      "text/plain": [
       "<Figure size 432x288 with 1 Axes>"
      ]
     },
     "metadata": {
      "needs_background": "light"
     },
     "output_type": "display_data"
    }
   ],
   "source": [
    "residuals=lin_reg.resid\n",
    "sm.qqplot(residuals)\n",
    "plt.show()"
   ]
  },
  {
   "cell_type": "markdown",
   "id": "a2af17f8",
   "metadata": {},
   "source": [
    "<html>\n",
    "<p style=\"color:purple;font-size:150%;\">\n",
    "    <b>2.Checking for homoscedasticity</b></p>"
   ]
  },
  {
   "cell_type": "code",
   "execution_count": 206,
   "id": "92341c63",
   "metadata": {},
   "outputs": [
    {
     "data": {
      "text/plain": [
       "[<matplotlib.lines.Line2D at 0x1f4b66a5f70>]"
      ]
     },
     "execution_count": 206,
     "metadata": {},
     "output_type": "execute_result"
    },
    {
     "data": {
      "image/png": "[encoded data removed]",
      "text/plain": [
       "<Figure size 432x288 with 1 Axes>"
      ]
     },
     "metadata": {
      "needs_background": "light"
     },
     "output_type": "display_data"
    }
   ],
   "source": [
    "plt.scatter(lin_reg.predict(X_train),residuals)\n",
    "plt.plot(y_train,[0]*len(y_train),c='r')"
   ]
  },
  {
   "cell_type": "markdown",
   "id": "63ad42cc",
   "metadata": {},
   "source": [
    "<html>\n",
    "<p style=\"color:purple;font-size:200%;\">\n",
    "    <b>Decision Tree Regression</b></p>"
   ]
  },
  {
   "cell_type": "code",
   "execution_count": 207,
   "id": "9a4281db",
   "metadata": {},
   "outputs": [
    {
     "data": {
      "text/html": [
       "<style>#sk-container-id-12 {color: black;background-color: white;}#sk-container-id-12 pre{padding: 0;}#sk-container-id-12 div.sk-toggleable {background-color: white;}#sk-container-id-12 label.sk-toggleable__label {cursor: pointer;display: block;width: 100%;margin-bottom: 0;padding: 0.3em;box-sizing: border-box;text-align: center;}#sk-container-id-12 label.sk-toggleable__label-arrow:before {content: \"▸\";float: left;margin-right: 0.25em;color: #696969;}#sk-container-id-12 label.sk-toggleable__label-arrow:hover:before {color: black;}#sk-container-id-12 div.sk-estimator:hover label.sk-toggleable__label-arrow:before {color: black;}#sk-container-id-12 div.sk-toggleable__content {max-height: 0;max-width: 0;overflow: hidden;text-align: left;background-color: #f0f8ff;}#sk-container-id-12 div.sk-toggleable__content pre {margin: 0.2em;color: black;border-radius: 0.25em;background-color: #f0f8ff;}#sk-container-id-12 input.sk-toggleable__control:checked~div.sk-toggleable__content {max-height: 200px;max-width: 100%;overflow: auto;}#sk-container-id-12 input.sk-toggleable__control:checked~label.sk-toggleable__label-arrow:before {content: \"▾\";}#sk-container-id-12 div.sk-estimator input.sk-toggleable__control:checked~label.sk-toggleable__label {background-color: #d4ebff;}#sk-container-id-12 div.sk-label input.sk-toggleable__control:checked~label.sk-toggleable__label {background-color: #d4ebff;}#sk-container-id-12 input.sk-hidden--visually {border: 0;clip: rect(1px 1px 1px 1px);clip: rect(1px, 1px, 1px, 1px);height: 1px;margin: -1px;overflow: hidden;padding: 0;position: absolute;width: 1px;}#sk-container-id-12 div.sk-estimator {font-family: monospace;background-color: #f0f8ff;border: 1px dotted black;border-radius: 0.25em;box-sizing: border-box;margin-bottom: 0.5em;}#sk-container-id-12 div.sk-estimator:hover {background-color: #d4ebff;}#sk-container-id-12 div.sk-parallel-item::after {content: \"\";width: 100%;border-bottom: 1px solid gray;flex-grow: 1;}#sk-container-id-12 div.sk-label:hover label.sk-toggleable__label {background-color: #d4ebff;}#sk-container-id-12 div.sk-serial::before {content: \"\";position: absolute;border-left: 1px solid gray;box-sizing: border-box;top: 0;bottom: 0;left: 50%;z-index: 0;}#sk-container-id-12 div.sk-serial {display: flex;flex-direction: column;align-items: center;background-color: white;padding-right: 0.2em;padding-left: 0.2em;position: relative;}#sk-container-id-12 div.sk-item {position: relative;z-index: 1;}#sk-container-id-12 div.sk-parallel {display: flex;align-items: stretch;justify-content: center;background-color: white;position: relative;}#sk-container-id-12 div.sk-item::before, #sk-container-id-12 div.sk-parallel-item::before {content: \"\";position: absolute;border-left: 1px solid gray;box-sizing: border-box;top: 0;bottom: 0;left: 50%;z-index: -1;}#sk-container-id-12 div.sk-parallel-item {display: flex;flex-direction: column;z-index: 1;position: relative;background-color: white;}#sk-container-id-12 div.sk-parallel-item:first-child::after {align-self: flex-end;width: 50%;}#sk-container-id-12 div.sk-parallel-item:last-child::after {align-self: flex-start;width: 50%;}#sk-container-id-12 div.sk-parallel-item:only-child::after {width: 0;}#sk-container-id-12 div.sk-dashed-wrapped {border: 1px dashed gray;margin: 0 0.4em 0.5em 0.4em;box-sizing: border-box;padding-bottom: 0.4em;background-color: white;}#sk-container-id-12 div.sk-label label {font-family: monospace;font-weight: bold;display: inline-block;line-height: 1.2em;}#sk-container-id-12 div.sk-label-container {text-align: center;}#sk-container-id-12 div.sk-container {/* jupyter's `normalize.less` sets `[hidden] { display: none; }` but bootstrap.min.css set `[hidden] { display: none !important; }` so we also need the `!important` here to be able to override the default hidden behavior on the sphinx rendered scikit-learn.org. See: https://github.com/scikit-learn/scikit-learn/issues/21755 */display: inline-block !important;position: relative;}#sk-container-id-12 div.sk-text-repr-fallback {display: none;}</style><div id=\"sk-container-id-12\" class=\"sk-top-container\"><div class=\"sk-text-repr-fallback\"><pre>DecisionTreeRegressor()</pre><b>In a Jupyter environment, please rerun this cell to show the HTML representation or trust the notebook. <br />On GitHub, the HTML representation is unable to render, please try loading this page with nbviewer.org.</b></div><div class=\"sk-container\" hidden><div class=\"sk-item\"><div class=\"sk-estimator sk-toggleable\"><input class=\"sk-toggleable__control sk-hidden--visually\" id=\"sk-estimator-id-16\" type=\"checkbox\" checked><label for=\"sk-estimator-id-16\" class=\"sk-toggleable__label sk-toggleable__label-arrow\">DecisionTreeRegressor</label><div class=\"sk-toggleable__content\"><pre>DecisionTreeRegressor()</pre></div></div></div></div></div>"
      ],
      "text/plain": [
       "DecisionTreeRegressor()"
      ]
     },
     "execution_count": 207,
     "metadata": {},
     "output_type": "execute_result"
    }
   ],
   "source": [
    "from sklearn.tree import DecisionTreeRegressor\n",
    "model2=DecisionTreeRegressor()\n",
    "model2.fit(X_train,y_train)"
   ]
  },
  {
   "cell_type": "code",
   "execution_count": 208,
   "id": "c77efb44",
   "metadata": {},
   "outputs": [],
   "source": [
    "y_pred2=model2.predict(X_test)"
   ]
  },
  {
   "cell_type": "code",
   "execution_count": 209,
   "id": "9107ecb9",
   "metadata": {},
   "outputs": [],
   "source": [
    "rscore2=r2_score(y_test,y_pred2)"
   ]
  },
  {
   "cell_type": "code",
   "execution_count": 210,
   "id": "1d224d0e",
   "metadata": {},
   "outputs": [
    {
     "data": {
      "text/plain": [
       "0.8007096766095139"
      ]
     },
     "execution_count": 210,
     "metadata": {},
     "output_type": "execute_result"
    }
   ],
   "source": [
    "rscore2"
   ]
  },
  {
   "cell_type": "markdown",
   "id": "22804090",
   "metadata": {},
   "source": [
    "<html>\n",
    "<p style=\"color:purple;font-size:200%;\">\n",
    "    <b>Random Forest Regression</b></p>"
   ]
  },
  {
   "cell_type": "code",
   "execution_count": 211,
   "id": "6a6a1b0b",
   "metadata": {},
   "outputs": [],
   "source": [
    "from sklearn.ensemble import RandomForestRegressor"
   ]
  },
  {
   "cell_type": "code",
   "execution_count": 233,
   "id": "28a333e6",
   "metadata": {},
   "outputs": [
    {
     "name": "stderr",
     "output_type": "stream",
     "text": [
      "C:\\Users\\shash\\AppData\\Local\\Temp\\ipykernel_11616\\3741388281.py:2: DataConversionWarning: A column-vector y was passed when a 1d array was expected. Please change the shape of y to (n_samples,), for example using ravel().\n",
      "  model3.fit(X_train,y_train)\n"
     ]
    },
    {
     "data": {
      "text/html": [
       "<style>#sk-container-id-17 {color: black;background-color: white;}#sk-container-id-17 pre{padding: 0;}#sk-container-id-17 div.sk-toggleable {background-color: white;}#sk-container-id-17 label.sk-toggleable__label {cursor: pointer;display: block;width: 100%;margin-bottom: 0;padding: 0.3em;box-sizing: border-box;text-align: center;}#sk-container-id-17 label.sk-toggleable__label-arrow:before {content: \"▸\";float: left;margin-right: 0.25em;color: #696969;}#sk-container-id-17 label.sk-toggleable__label-arrow:hover:before {color: black;}#sk-container-id-17 div.sk-estimator:hover label.sk-toggleable__label-arrow:before {color: black;}#sk-container-id-17 div.sk-toggleable__content {max-height: 0;max-width: 0;overflow: hidden;text-align: left;background-color: #f0f8ff;}#sk-container-id-17 div.sk-toggleable__content pre {margin: 0.2em;color: black;border-radius: 0.25em;background-color: #f0f8ff;}#sk-container-id-17 input.sk-toggleable__control:checked~div.sk-toggleable__content {max-height: 200px;max-width: 100%;overflow: auto;}#sk-container-id-17 input.sk-toggleable__control:checked~label.sk-toggleable__label-arrow:before {content: \"▾\";}#sk-container-id-17 div.sk-estimator input.sk-toggleable__control:checked~label.sk-toggleable__label {background-color: #d4ebff;}#sk-container-id-17 div.sk-label input.sk-toggleable__control:checked~label.sk-toggleable__label {background-color: #d4ebff;}#sk-container-id-17 input.sk-hidden--visually {border: 0;clip: rect(1px 1px 1px 1px);clip: rect(1px, 1px, 1px, 1px);height: 1px;margin: -1px;overflow: hidden;padding: 0;position: absolute;width: 1px;}#sk-container-id-17 div.sk-estimator {font-family: monospace;background-color: #f0f8ff;border: 1px dotted black;border-radius: 0.25em;box-sizing: border-box;margin-bottom: 0.5em;}#sk-container-id-17 div.sk-estimator:hover {background-color: #d4ebff;}#sk-container-id-17 div.sk-parallel-item::after {content: \"\";width: 100%;border-bottom: 1px solid gray;flex-grow: 1;}#sk-container-id-17 div.sk-label:hover label.sk-toggleable__label {background-color: #d4ebff;}#sk-container-id-17 div.sk-serial::before {content: \"\";position: absolute;border-left: 1px solid gray;box-sizing: border-box;top: 0;bottom: 0;left: 50%;z-index: 0;}#sk-container-id-17 div.sk-serial {display: flex;flex-direction: column;align-items: center;background-color: white;padding-right: 0.2em;padding-left: 0.2em;position: relative;}#sk-container-id-17 div.sk-item {position: relative;z-index: 1;}#sk-container-id-17 div.sk-parallel {display: flex;align-items: stretch;justify-content: center;background-color: white;position: relative;}#sk-container-id-17 div.sk-item::before, #sk-container-id-17 div.sk-parallel-item::before {content: \"\";position: absolute;border-left: 1px solid gray;box-sizing: border-box;top: 0;bottom: 0;left: 50%;z-index: -1;}#sk-container-id-17 div.sk-parallel-item {display: flex;flex-direction: column;z-index: 1;position: relative;background-color: white;}#sk-container-id-17 div.sk-parallel-item:first-child::after {align-self: flex-end;width: 50%;}#sk-container-id-17 div.sk-parallel-item:last-child::after {align-self: flex-start;width: 50%;}#sk-container-id-17 div.sk-parallel-item:only-child::after {width: 0;}#sk-container-id-17 div.sk-dashed-wrapped {border: 1px dashed gray;margin: 0 0.4em 0.5em 0.4em;box-sizing: border-box;padding-bottom: 0.4em;background-color: white;}#sk-container-id-17 div.sk-label label {font-family: monospace;font-weight: bold;display: inline-block;line-height: 1.2em;}#sk-container-id-17 div.sk-label-container {text-align: center;}#sk-container-id-17 div.sk-container {/* jupyter's `normalize.less` sets `[hidden] { display: none; }` but bootstrap.min.css set `[hidden] { display: none !important; }` so we also need the `!important` here to be able to override the default hidden behavior on the sphinx rendered scikit-learn.org. See: https://github.com/scikit-learn/scikit-learn/issues/21755 */display: inline-block !important;position: relative;}#sk-container-id-17 div.sk-text-repr-fallback {display: none;}</style><div id=\"sk-container-id-17\" class=\"sk-top-container\"><div class=\"sk-text-repr-fallback\"><pre>RandomForestRegressor(n_estimators=10, random_state=0)</pre><b>In a Jupyter environment, please rerun this cell to show the HTML representation or trust the notebook. <br />On GitHub, the HTML representation is unable to render, please try loading this page with nbviewer.org.</b></div><div class=\"sk-container\" hidden><div class=\"sk-item\"><div class=\"sk-estimator sk-toggleable\"><input class=\"sk-toggleable__control sk-hidden--visually\" id=\"sk-estimator-id-25\" type=\"checkbox\" checked><label for=\"sk-estimator-id-25\" class=\"sk-toggleable__label sk-toggleable__label-arrow\">RandomForestRegressor</label><div class=\"sk-toggleable__content\"><pre>RandomForestRegressor(n_estimators=10, random_state=0)</pre></div></div></div></div></div>"
      ],
      "text/plain": [
       "RandomForestRegressor(n_estimators=10, random_state=0)"
      ]
     },
     "execution_count": 233,
     "metadata": {},
     "output_type": "execute_result"
    }
   ],
   "source": [
    "model3=RandomForestRegressor(n_estimators=10,random_state=0)\n",
    "model3.fit(X_train,y_train)"
   ]
  },
  {
   "cell_type": "code",
   "execution_count": 234,
   "id": "f409f9b5",
   "metadata": {},
   "outputs": [],
   "source": [
    "y_pred3=model3.predict(X_test)"
   ]
  },
  {
   "cell_type": "code",
   "execution_count": 235,
   "id": "9b6da998",
   "metadata": {},
   "outputs": [],
   "source": [
    "rscore3=r2_score(y_test,y_pred3)"
   ]
  },
  {
   "cell_type": "code",
   "execution_count": 236,
   "id": "fc66d477",
   "metadata": {},
   "outputs": [
    {
     "data": {
      "text/plain": [
       "0.8877029077018322"
      ]
     },
     "execution_count": 236,
     "metadata": {},
     "output_type": "execute_result"
    }
   ],
   "source": [
    "rscore3"
   ]
  },
  {
   "cell_type": "markdown",
   "id": "1940660a",
   "metadata": {},
   "source": [
    "<html>\n",
    "<p style=\"color:purple;font-size:200%;\">\n",
    "    <b>Bagging Regressor</b></p>"
   ]
  },
  {
   "cell_type": "code",
   "execution_count": 237,
   "id": "c2ca0141",
   "metadata": {},
   "outputs": [
    {
     "name": "stderr",
     "output_type": "stream",
     "text": [
      "C:\\Users\\shash\\anaconda3\\lib\\site-packages\\sklearn\\ensemble\\_bagging.py:470: DataConversionWarning: A column-vector y was passed when a 1d array was expected. Please change the shape of y to (n_samples, ), for example using ravel().\n",
      "  return column_or_1d(y, warn=True)\n"
     ]
    },
    {
     "data": {
      "text/html": [
       "<style>#sk-container-id-18 {color: black;background-color: white;}#sk-container-id-18 pre{padding: 0;}#sk-container-id-18 div.sk-toggleable {background-color: white;}#sk-container-id-18 label.sk-toggleable__label {cursor: pointer;display: block;width: 100%;margin-bottom: 0;padding: 0.3em;box-sizing: border-box;text-align: center;}#sk-container-id-18 label.sk-toggleable__label-arrow:before {content: \"▸\";float: left;margin-right: 0.25em;color: #696969;}#sk-container-id-18 label.sk-toggleable__label-arrow:hover:before {color: black;}#sk-container-id-18 div.sk-estimator:hover label.sk-toggleable__label-arrow:before {color: black;}#sk-container-id-18 div.sk-toggleable__content {max-height: 0;max-width: 0;overflow: hidden;text-align: left;background-color: #f0f8ff;}#sk-container-id-18 div.sk-toggleable__content pre {margin: 0.2em;color: black;border-radius: 0.25em;background-color: #f0f8ff;}#sk-container-id-18 input.sk-toggleable__control:checked~div.sk-toggleable__content {max-height: 200px;max-width: 100%;overflow: auto;}#sk-container-id-18 input.sk-toggleable__control:checked~label.sk-toggleable__label-arrow:before {content: \"▾\";}#sk-container-id-18 div.sk-estimator input.sk-toggleable__control:checked~label.sk-toggleable__label {background-color: #d4ebff;}#sk-container-id-18 div.sk-label input.sk-toggleable__control:checked~label.sk-toggleable__label {background-color: #d4ebff;}#sk-container-id-18 input.sk-hidden--visually {border: 0;clip: rect(1px 1px 1px 1px);clip: rect(1px, 1px, 1px, 1px);height: 1px;margin: -1px;overflow: hidden;padding: 0;position: absolute;width: 1px;}#sk-container-id-18 div.sk-estimator {font-family: monospace;background-color: #f0f8ff;border: 1px dotted black;border-radius: 0.25em;box-sizing: border-box;margin-bottom: 0.5em;}#sk-container-id-18 div.sk-estimator:hover {background-color: #d4ebff;}#sk-container-id-18 div.sk-parallel-item::after {content: \"\";width: 100%;border-bottom: 1px solid gray;flex-grow: 1;}#sk-container-id-18 div.sk-label:hover label.sk-toggleable__label {background-color: #d4ebff;}#sk-container-id-18 div.sk-serial::before {content: \"\";position: absolute;border-left: 1px solid gray;box-sizing: border-box;top: 0;bottom: 0;left: 50%;z-index: 0;}#sk-container-id-18 div.sk-serial {display: flex;flex-direction: column;align-items: center;background-color: white;padding-right: 0.2em;padding-left: 0.2em;position: relative;}#sk-container-id-18 div.sk-item {position: relative;z-index: 1;}#sk-container-id-18 div.sk-parallel {display: flex;align-items: stretch;justify-content: center;background-color: white;position: relative;}#sk-container-id-18 div.sk-item::before, #sk-container-id-18 div.sk-parallel-item::before {content: \"\";position: absolute;border-left: 1px solid gray;box-sizing: border-box;top: 0;bottom: 0;left: 50%;z-index: -1;}#sk-container-id-18 div.sk-parallel-item {display: flex;flex-direction: column;z-index: 1;position: relative;background-color: white;}#sk-container-id-18 div.sk-parallel-item:first-child::after {align-self: flex-end;width: 50%;}#sk-container-id-18 div.sk-parallel-item:last-child::after {align-self: flex-start;width: 50%;}#sk-container-id-18 div.sk-parallel-item:only-child::after {width: 0;}#sk-container-id-18 div.sk-dashed-wrapped {border: 1px dashed gray;margin: 0 0.4em 0.5em 0.4em;box-sizing: border-box;padding-bottom: 0.4em;background-color: white;}#sk-container-id-18 div.sk-label label {font-family: monospace;font-weight: bold;display: inline-block;line-height: 1.2em;}#sk-container-id-18 div.sk-label-container {text-align: center;}#sk-container-id-18 div.sk-container {/* jupyter's `normalize.less` sets `[hidden] { display: none; }` but bootstrap.min.css set `[hidden] { display: none !important; }` so we also need the `!important` here to be able to override the default hidden behavior on the sphinx rendered scikit-learn.org. See: https://github.com/scikit-learn/scikit-learn/issues/21755 */display: inline-block !important;position: relative;}#sk-container-id-18 div.sk-text-repr-fallback {display: none;}</style><div id=\"sk-container-id-18\" class=\"sk-top-container\"><div class=\"sk-text-repr-fallback\"><pre>BaggingRegressor(base_estimator=RandomForestRegressor(n_estimators=10,\n",
       "                                                      random_state=0),\n",
       "                 random_state=0)</pre><b>In a Jupyter environment, please rerun this cell to show the HTML representation or trust the notebook. <br />On GitHub, the HTML representation is unable to render, please try loading this page with nbviewer.org.</b></div><div class=\"sk-container\" hidden><div class=\"sk-item sk-dashed-wrapped\"><div class=\"sk-label-container\"><div class=\"sk-label sk-toggleable\"><input class=\"sk-toggleable__control sk-hidden--visually\" id=\"sk-estimator-id-26\" type=\"checkbox\" ><label for=\"sk-estimator-id-26\" class=\"sk-toggleable__label sk-toggleable__label-arrow\">BaggingRegressor</label><div class=\"sk-toggleable__content\"><pre>BaggingRegressor(base_estimator=RandomForestRegressor(n_estimators=10,\n",
       "                                                      random_state=0),\n",
       "                 random_state=0)</pre></div></div></div><div class=\"sk-parallel\"><div class=\"sk-parallel-item\"><div class=\"sk-item\"><div class=\"sk-label-container\"><div class=\"sk-label sk-toggleable\"><input class=\"sk-toggleable__control sk-hidden--visually\" id=\"sk-estimator-id-27\" type=\"checkbox\" ><label for=\"sk-estimator-id-27\" class=\"sk-toggleable__label sk-toggleable__label-arrow\">base_estimator: RandomForestRegressor</label><div class=\"sk-toggleable__content\"><pre>RandomForestRegressor(n_estimators=10, random_state=0)</pre></div></div></div><div class=\"sk-serial\"><div class=\"sk-item\"><div class=\"sk-estimator sk-toggleable\"><input class=\"sk-toggleable__control sk-hidden--visually\" id=\"sk-estimator-id-28\" type=\"checkbox\" ><label for=\"sk-estimator-id-28\" class=\"sk-toggleable__label sk-toggleable__label-arrow\">RandomForestRegressor</label><div class=\"sk-toggleable__content\"><pre>RandomForestRegressor(n_estimators=10, random_state=0)</pre></div></div></div></div></div></div></div></div></div></div>"
      ],
      "text/plain": [
       "BaggingRegressor(base_estimator=RandomForestRegressor(n_estimators=10,\n",
       "                                                      random_state=0),\n",
       "                 random_state=0)"
      ]
     },
     "execution_count": 237,
     "metadata": {},
     "output_type": "execute_result"
    }
   ],
   "source": [
    "from sklearn.ensemble import BaggingRegressor\n",
    "model4= BaggingRegressor(model3,random_state=0)\n",
    "model4.fit(X_train, y_train)"
   ]
  },
  {
   "cell_type": "code",
   "execution_count": 238,
   "id": "0c1e5bb3",
   "metadata": {},
   "outputs": [],
   "source": [
    "y_pred4=model4.predict(X_test)"
   ]
  },
  {
   "cell_type": "code",
   "execution_count": 239,
   "id": "a06758f1",
   "metadata": {},
   "outputs": [],
   "source": [
    "rscore4=r2_score(y_test,y_pred4)"
   ]
  },
  {
   "cell_type": "code",
   "execution_count": 240,
   "id": "5274244b",
   "metadata": {},
   "outputs": [
    {
     "data": {
      "text/plain": [
       "0.8999151577475398"
      ]
     },
     "execution_count": 240,
     "metadata": {},
     "output_type": "execute_result"
    }
   ],
   "source": [
    "rscore4"
   ]
  },
  {
   "cell_type": "markdown",
   "id": "c153019f",
   "metadata": {},
   "source": [
    "<html>\n",
    "<p style=\"color:purple;font-size:200%;\">\n",
    "    <b>Accuracy Table</b></p>"
   ]
  },
  {
   "cell_type": "code",
   "execution_count": 241,
   "id": "bf380c3f",
   "metadata": {},
   "outputs": [],
   "source": [
    "data1={'Model':['Linear Regression','Decision Tree Regressor','Random Forest Regressor','Bagging Regressor'],'R_Score':[rscore1,rscore2,rscore3,rscore4]}"
   ]
  },
  {
   "cell_type": "code",
   "execution_count": 242,
   "id": "a4a81fc5",
   "metadata": {},
   "outputs": [],
   "source": [
    "Accuracy_Table=pd.DataFrame(data1)"
   ]
  },
  {
   "cell_type": "code",
   "execution_count": 243,
   "id": "fd00337f",
   "metadata": {},
   "outputs": [],
   "source": [
    "Accuracy_Table['Rank']=Accuracy_Table['R_Score'].rank(axis=0,ascending=False)"
   ]
  },
  {
   "cell_type": "code",
   "execution_count": 244,
   "id": "0c34c819",
   "metadata": {},
   "outputs": [
    {
     "data": {
      "text/html": [
       "<div>\n",
       "<style scoped>\n",
       "    .dataframe tbody tr th:only-of-type {\n",
       "        vertical-align: middle;\n",
       "    }\n",
       "\n",
       "    .dataframe tbody tr th {\n",
       "        vertical-align: top;\n",
       "    }\n",
       "\n",
       "    .dataframe thead th {\n",
       "        text-align: right;\n",
       "    }\n",
       "</style>\n",
       "<table border=\"1\" class=\"dataframe\">\n",
       "  <thead>\n",
       "    <tr style=\"text-align: right;\">\n",
       "      <th></th>\n",
       "      <th>Model</th>\n",
       "      <th>R_Score</th>\n",
       "      <th>Rank</th>\n",
       "    </tr>\n",
       "  </thead>\n",
       "  <tbody>\n",
       "    <tr>\n",
       "      <th>0</th>\n",
       "      <td>Linear Regression</td>\n",
       "      <td>0.800470</td>\n",
       "      <td>4.0</td>\n",
       "    </tr>\n",
       "    <tr>\n",
       "      <th>1</th>\n",
       "      <td>Decision Tree Regressor</td>\n",
       "      <td>0.800710</td>\n",
       "      <td>3.0</td>\n",
       "    </tr>\n",
       "    <tr>\n",
       "      <th>2</th>\n",
       "      <td>Random Forest Regressor</td>\n",
       "      <td>0.887703</td>\n",
       "      <td>2.0</td>\n",
       "    </tr>\n",
       "    <tr>\n",
       "      <th>3</th>\n",
       "      <td>Bagging Regressor</td>\n",
       "      <td>0.899915</td>\n",
       "      <td>1.0</td>\n",
       "    </tr>\n",
       "  </tbody>\n",
       "</table>\n",
       "</div>"
      ],
      "text/plain": [
       "                     Model   R_Score  Rank\n",
       "0        Linear Regression  0.800470   4.0\n",
       "1  Decision Tree Regressor  0.800710   3.0\n",
       "2  Random Forest Regressor  0.887703   2.0\n",
       "3        Bagging Regressor  0.899915   1.0"
      ]
     },
     "execution_count": 244,
     "metadata": {},
     "output_type": "execute_result"
    }
   ],
   "source": [
    "Accuracy_Table"
   ]
  }
 ],
 "metadata": {
  "kernelspec": {
   "display_name": "Python 3 (ipykernel)",
   "language": "python",
   "name": "python3"
  },
  "language_info": {
   "codemirror_mode": {
    "name": "ipython",
    "version": 3
   },
   "file_extension": ".py",
   "mimetype": "text/x-python",
   "name": "python",
   "nbconvert_exporter": "python",
   "pygments_lexer": "ipython3",
   "version": "3.9.12"
  }
 },
 "nbformat": 4,
 "nbformat_minor": 5
}
